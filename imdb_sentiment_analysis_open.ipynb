{
  "nbformat": 4,
  "nbformat_minor": 0,
  "metadata": {
    "colab": {
      "name": "imdb_sentiment_analysis_open.ipynb",
      "version": "0.3.2",
      "provenance": [],
      "collapsed_sections": [],
      "toc_visible": true
    },
    "language_info": {
      "codemirror_mode": {
        "name": "ipython",
        "version": 3
      },
      "file_extension": ".py",
      "mimetype": "text/x-python",
      "name": "python",
      "nbconvert_exporter": "python",
      "pygments_lexer": "ipython3",
      "version": "3.7.0"
    },
    "kernelspec": {
      "name": "python3",
      "display_name": "Python 3"
    },
    "accelerator": "GPU"
  },
  "cells": [
    {
      "cell_type": "markdown",
      "metadata": {
        "id": "pwpzDzMq9j5J",
        "colab_type": "text"
      },
      "source": [
        "# Sentiment Analysis, IMDB Challenge."
      ]
    },
    {
      "cell_type": "markdown",
      "metadata": {
        "id": "zIT7nFve9j5N",
        "colab_type": "text"
      },
      "source": [
        "This is a dataset for binary sentiment classification. It contains a set of 25,000 highly polar movie reviews for training, and 25,000 for testing. There is additional unlabeled data for use as well. Raw text and already processed bag of words formats are provided. \n",
        "\n",
        "See the README file contained in the release for more details.\n",
        "If the .sh script doesn't work (wrong dependencies, or Windows system), manually download your dataset at https://ai.stanford.edu/~amaas/data/sentiment/aclImdb_v1.tar.gz\n",
        "\n",
        "For further information about state of the art results, check out [link](http://nlpprogress.com/english/sentiment_analysis.html)"
      ]
    },
    {
      "cell_type": "markdown",
      "metadata": {
        "id": "g_8kU6UA9j5P",
        "colab_type": "text"
      },
      "source": [
        "### Guidelines"
      ]
    },
    {
      "cell_type": "markdown",
      "metadata": {
        "id": "RBRTegZm9j5Q",
        "colab_type": "text"
      },
      "source": [
        "Your goal is to establish a sentiment analysis model on the well known IMDB dataset. Label is either *positive* (1) or *negative* (0). The dataset contains a train and a test set. \n",
        "\n",
        "The technical approach is completely open. Your model's performances will be assessed based on the accuracy on this test set."
      ]
    },
    {
      "cell_type": "markdown",
      "metadata": {
        "id": "42Yu9NHV9j5U",
        "colab_type": "text"
      },
      "source": [
        "A few guidelines : \n",
        "\n",
        "- Various approaches can imagined, from simple Machine Learning algorithm to elaborated Deep Learning networks. Data preparation choices can also be crucial.\n",
        "- The folder *unsup* contains some unlabelled data, that might useful for various matters\n",
        "- Try to first establish a super simple baseline, before diving into sophisticated models\n",
        "- Comment all your explorations to explain your technical choices."
      ]
    },
    {
      "cell_type": "code",
      "metadata": {
        "id": "JF6tLdvx9j5V",
        "colab_type": "code",
        "outputId": "c94af5b6-cd4c-4a3f-c9a9-d9f5f67f82d4",
        "colab": {
          "base_uri": "https://localhost:8080/",
          "height": 144
        }
      },
      "source": [
        "import numpy as np\n",
        "import matplotlib.pyplot as plt\n",
        "%config InlineBackend.figure_format = 'retina'\n",
        "plt.rcParams.update({'font.size': 14})\n",
        "import seaborn as sns\n",
        "sns.set_style(\"whitegrid\")\n",
        "sns.palplot(sns.color_palette(\"colorblind\"))\n",
        "import os\n",
        "import re\n",
        "from sklearn.feature_extraction.text import CountVectorizer, TfidfVectorizer\n",
        "from sklearn.svm import SVC\n",
        "from sklearn.metrics import classification_report\n",
        "import pandas as pd\n",
        "from keras.preprocessing.text import Tokenizer\n",
        "from keras.preprocessing.sequence import pad_sequences\n",
        "from keras.layers import Embedding, LSTM, Dense, SpatialDropout1D, Dropout, RepeatVector, TimeDistributed\n",
        "from keras.models import Sequential\n",
        "from keras.callbacks import ModelCheckpoint, EarlyStopping\n",
        "from sklearn.preprocessing import OneHotEncoder\n",
        "import gensim\n",
        "from google.colab import drive\n",
        "drive.mount('/content/gdrive')"
      ],
      "execution_count": 4,
      "outputs": [
        {
          "output_type": "stream",
          "text": [
            "Using TensorFlow backend.\n"
          ],
          "name": "stderr"
        },
        {
          "output_type": "stream",
          "text": [
            "Drive already mounted at /content/gdrive; to attempt to forcibly remount, call drive.mount(\"/content/gdrive\", force_remount=True).\n"
          ],
          "name": "stdout"
        },
        {
          "output_type": "display_data",
          "data": {
            "image/png": "[encoded data removed]",
            "text/plain": [
              "<Figure size 720x72 with 1 Axes>"
            ]
          },
          "metadata": {
            "tags": [],
            "image/png": {
              "width": 575,
              "height": 72
            }
          }
        }
      ]
    },
    {
      "cell_type": "markdown",
      "metadata": {
        "id": "ONHJzvtZedlC",
        "colab_type": "text"
      },
      "source": [
        "# Download dataset"
      ]
    },
    {
      "cell_type": "code",
      "metadata": {
        "id": "PUO9VlOY-fbs",
        "colab_type": "code",
        "outputId": "9a35207d-903a-4358-bb95-96bb43aeeea9",
        "colab": {
          "base_uri": "https://localhost:8080/",
          "height": 208
        }
      },
      "source": [
        "# !wget -P /content/gdrive/My\\ Drive/data/dataset https://ai.stanford.edu/~amaas/data/sentiment/aclImdb_v1.tar.gz\n",
        "!wget https://ai.stanford.edu/~amaas/data/sentiment/aclImdb_v1.tar.gz"
      ],
      "execution_count": 1,
      "outputs": [
        {
          "output_type": "stream",
          "text": [
            "--2019-06-03 08:41:25--  https://ai.stanford.edu/~amaas/data/sentiment/aclImdb_v1.tar.gz\n",
            "Resolving ai.stanford.edu (ai.stanford.edu)... 171.64.68.10\n",
            "Connecting to ai.stanford.edu (ai.stanford.edu)|171.64.68.10|:443... connected.\n",
            "HTTP request sent, awaiting response... 200 OK\n",
            "Length: 84125825 (80M) [application/x-gzip]\n",
            "Saving to: ‘aclImdb_v1.tar.gz.3’\n",
            "\n",
            "aclImdb_v1.tar.gz.3 100%[===================>]  80.23M  20.5MB/s    in 7.1s    \n",
            "\n",
            "2019-06-03 08:41:33 (11.3 MB/s) - ‘aclImdb_v1.tar.gz.3’ saved [84125825/84125825]\n",
            "\n"
          ],
          "name": "stdout"
        }
      ]
    },
    {
      "cell_type": "code",
      "metadata": {
        "id": "yQSdlGtq-5tO",
        "colab_type": "code",
        "colab": {}
      },
      "source": [
        "# !tar -xf /content/gdrive/My\\ Drive/data/dataset/aclImdb_v1.tar.gz -C /content/gdrive/My\\ Drive/data/dataset\n",
        "!tar -xf aclImdb_v1.tar.gz"
      ],
      "execution_count": 0,
      "outputs": []
    },
    {
      "cell_type": "markdown",
      "metadata": {
        "id": "oyvp-BPXeiSj",
        "colab_type": "text"
      },
      "source": [
        "# Load dataset into Dataframe and regex cleaning"
      ]
    },
    {
      "cell_type": "code",
      "metadata": {
        "id": "_CM1RMg09j5f",
        "colab_type": "code",
        "colab": {}
      },
      "source": [
        "# path = \"/content/gdrive/My Drive/data/dataset/aclImdb\"\n",
        "path = \"./aclImdb\"\n",
        "train_pos_dirs = [os.path.join(path+\"/train\"+\"/pos\", files) for files in os.listdir(path+\"/train\"+\"/pos\")]\n",
        "train_neg_dirs = [os.path.join(path+\"/train\"+\"/neg\", files) for files in os.listdir(path+\"/train\"+\"/neg\")]\n",
        "test_pos_dirs = [os.path.join(path+\"/test\"+\"/pos\", files) for files in os.listdir(path+\"/test\"+\"/pos\")]\n",
        "test_neg_dirs = [os.path.join(path+\"/test\"+\"/neg\", files) for files in os.listdir(path+\"/test\"+\"/neg\")]"
      ],
      "execution_count": 0,
      "outputs": []
    },
    {
      "cell_type": "code",
      "metadata": {
        "id": "VYg5xPej9j5k",
        "colab_type": "code",
        "colab": {}
      },
      "source": [
        "train_pos = [open(file, \"r\").read() for file in train_pos_dirs]\n",
        "train_neg = [open(file, \"r\").read() for file in train_neg_dirs]\n",
        "test_pos = [open(file, \"r\").read() for file in test_pos_dirs]\n",
        "test_neg = [open(file, \"r\").read() for file in test_neg_dirs]"
      ],
      "execution_count": 0,
      "outputs": []
    },
    {
      "cell_type": "code",
      "metadata": {
        "id": "hlSM1w1R9j5o",
        "colab_type": "code",
        "outputId": "afff0ec5-39d6-4753-b9df-6a90728b7f7b",
        "colab": {
          "base_uri": "https://localhost:8080/",
          "height": 54
        }
      },
      "source": [
        "print(train_pos[3])"
      ],
      "execution_count": 7,
      "outputs": [
        {
          "output_type": "stream",
          "text": [
            "There seems to be only two types of reviews of this film on the net. Those who hate it and curse Ralph Bakshis name and those love it and call it work of genious. I'm inclined to be in the middle. I'am forced to agree with most of the criticisms of this film (e.g.the cruel cutting of the story, badly rotoscoped charecters, over acting etc...) But dispite this I still love this film. The rotoscoping (when done properly)adds an eerie lifelike dimension to the charecters and the final battle scene at the end of the film is fantastic. The surrealistic scenes when the nineriders chase Frodo are stylish and well executed and the musical score... magic. Sadly the bad points outweight film but if you can bring yourself to ignore them it is a great film.<br /><br />(No doubt I'll be lynched by an angry mob of people who hate this film after writing this review, ah well, such is life)\n"
          ],
          "name": "stdout"
        }
      ]
    },
    {
      "cell_type": "code",
      "metadata": {
        "id": "EhxMejJY9j5v",
        "colab_type": "code",
        "colab": {}
      },
      "source": [
        "replacements = [\n",
        "    (r\"(<br />)+\", \" \"),\n",
        "    (r\"\\\\\", \"\"),\n",
        "    (r\"!|\\*|\\?|,|\\.|;|&|\\$|\\(|\\)\", \"\")\n",
        "]\n",
        "for old, new in replacements:\n",
        "    train_pos = [re.sub(old, new, review) for review in train_pos]\n",
        "    train_neg = [re.sub(old, new, review) for review in train_neg]\n",
        "    test_pos = [re.sub(old, new, review) for review in test_pos]\n",
        "    test_neg = [re.sub(old, new, review) for review in test_neg]"
      ],
      "execution_count": 0,
      "outputs": []
    },
    {
      "cell_type": "code",
      "metadata": {
        "id": "N7Hgke0B9j52",
        "colab_type": "code",
        "outputId": "71415637-85cf-41c1-8d63-b4ad574cb52f",
        "colab": {
          "base_uri": "https://localhost:8080/",
          "height": 54
        }
      },
      "source": [
        "print(train_pos[3])"
      ],
      "execution_count": 9,
      "outputs": [
        {
          "output_type": "stream",
          "text": [
            "There seems to be only two types of reviews of this film on the net Those who hate it and curse Ralph Bakshis name and those love it and call it work of genious I'm inclined to be in the middle I'am forced to agree with most of the criticisms of this film egthe cruel cutting of the story badly rotoscoped charecters over acting etc But dispite this I still love this film The rotoscoping when done properlyadds an eerie lifelike dimension to the charecters and the final battle scene at the end of the film is fantastic The surrealistic scenes when the nineriders chase Frodo are stylish and well executed and the musical score magic Sadly the bad points outweight film but if you can bring yourself to ignore them it is a great film No doubt I'll be lynched by an angry mob of people who hate this film after writing this review ah well such is life\n"
          ],
          "name": "stdout"
        }
      ]
    },
    {
      "cell_type": "code",
      "metadata": {
        "id": "TbMGViDN6mid",
        "colab_type": "code",
        "colab": {}
      },
      "source": [
        "df_train = pd.DataFrame({\"review\": train_pos+train_neg,\n",
        "                         \"label\": np.hstack((np.ones(len(train_pos), dtype=np.int8), np.zeros(len(train_neg), dtype=np.int8)))})\n",
        "df_test = pd.DataFrame({\"review\": test_pos+test_neg,\n",
        "                        \"label\": np.hstack((np.ones(len(test_pos), dtype=np.int8), np.zeros(len(test_neg), dtype=np.int8)))})\n"
      ],
      "execution_count": 0,
      "outputs": []
    },
    {
      "cell_type": "code",
      "metadata": {
        "id": "jrSU0AwU7kA3",
        "colab_type": "code",
        "outputId": "83051a5e-3baa-4582-fe0f-4d9bea57f48d",
        "colab": {
          "base_uri": "https://localhost:8080/",
          "height": 112
        }
      },
      "source": [
        "df_train.head(2)"
      ],
      "execution_count": 11,
      "outputs": [
        {
          "output_type": "execute_result",
          "data": {
            "text/html": [
              "<div>\n",
              "<style scoped>\n",
              "    .dataframe tbody tr th:only-of-type {\n",
              "        vertical-align: middle;\n",
              "    }\n",
              "\n",
              "    .dataframe tbody tr th {\n",
              "        vertical-align: top;\n",
              "    }\n",
              "\n",
              "    .dataframe thead th {\n",
              "        text-align: right;\n",
              "    }\n",
              "</style>\n",
              "<table border=\"1\" class=\"dataframe\">\n",
              "  <thead>\n",
              "    <tr style=\"text-align: right;\">\n",
              "      <th></th>\n",
              "      <th>review</th>\n",
              "      <th>label</th>\n",
              "    </tr>\n",
              "  </thead>\n",
              "  <tbody>\n",
              "    <tr>\n",
              "      <th>0</th>\n",
              "      <td>Though not in the whole film Andy Griffith aga...</td>\n",
              "      <td>1</td>\n",
              "    </tr>\n",
              "    <tr>\n",
              "      <th>1</th>\n",
              "      <td>It is no surprise that writer/director Michael...</td>\n",
              "      <td>1</td>\n",
              "    </tr>\n",
              "  </tbody>\n",
              "</table>\n",
              "</div>"
            ],
            "text/plain": [
              "                                              review  label\n",
              "0  Though not in the whole film Andy Griffith aga...      1\n",
              "1  It is no surprise that writer/director Michael...      1"
            ]
          },
          "metadata": {
            "tags": []
          },
          "execution_count": 11
        }
      ]
    },
    {
      "cell_type": "code",
      "metadata": {
        "id": "3nibkY_p9zgZ",
        "colab_type": "code",
        "outputId": "1df6a894-3786-4894-d807-32ff31f3ecb8",
        "colab": {
          "base_uri": "https://localhost:8080/",
          "height": 112
        }
      },
      "source": [
        "df_test.head(2)"
      ],
      "execution_count": 12,
      "outputs": [
        {
          "output_type": "execute_result",
          "data": {
            "text/html": [
              "<div>\n",
              "<style scoped>\n",
              "    .dataframe tbody tr th:only-of-type {\n",
              "        vertical-align: middle;\n",
              "    }\n",
              "\n",
              "    .dataframe tbody tr th {\n",
              "        vertical-align: top;\n",
              "    }\n",
              "\n",
              "    .dataframe thead th {\n",
              "        text-align: right;\n",
              "    }\n",
              "</style>\n",
              "<table border=\"1\" class=\"dataframe\">\n",
              "  <thead>\n",
              "    <tr style=\"text-align: right;\">\n",
              "      <th></th>\n",
              "      <th>review</th>\n",
              "      <th>label</th>\n",
              "    </tr>\n",
              "  </thead>\n",
              "  <tbody>\n",
              "    <tr>\n",
              "      <th>0</th>\n",
              "      <td>I absolutely love this film Everything about i...</td>\n",
              "      <td>1</td>\n",
              "    </tr>\n",
              "    <tr>\n",
              "      <th>1</th>\n",
              "      <td>Set in and near a poor working class town in t...</td>\n",
              "      <td>1</td>\n",
              "    </tr>\n",
              "  </tbody>\n",
              "</table>\n",
              "</div>"
            ],
            "text/plain": [
              "                                              review  label\n",
              "0  I absolutely love this film Everything about i...      1\n",
              "1  Set in and near a poor working class town in t...      1"
            ]
          },
          "metadata": {
            "tags": []
          },
          "execution_count": 12
        }
      ]
    },
    {
      "cell_type": "markdown",
      "metadata": {
        "id": "TShVF_pNgHjH",
        "colab_type": "text"
      },
      "source": [
        "# Data visualisation and remove outliers"
      ]
    },
    {
      "cell_type": "code",
      "metadata": {
        "id": "wFvDG5Tk7swf",
        "colab_type": "code",
        "colab": {}
      },
      "source": [
        "df_train[\"length\"] = df_train.apply(lambda row: len(row[\"review\"]), axis=1)\n",
        "df_test[\"length\"] = df_test.apply(lambda row: len(row[\"review\"]), axis=1)"
      ],
      "execution_count": 0,
      "outputs": []
    },
    {
      "cell_type": "code",
      "metadata": {
        "id": "ISPdwFnk9y4u",
        "colab_type": "code",
        "outputId": "066864bd-8017-44e6-c71d-817767d6ffb9",
        "colab": {
          "base_uri": "https://localhost:8080/",
          "height": 112
        }
      },
      "source": [
        "df_train.head(2)"
      ],
      "execution_count": 14,
      "outputs": [
        {
          "output_type": "execute_result",
          "data": {
            "text/html": [
              "<div>\n",
              "<style scoped>\n",
              "    .dataframe tbody tr th:only-of-type {\n",
              "        vertical-align: middle;\n",
              "    }\n",
              "\n",
              "    .dataframe tbody tr th {\n",
              "        vertical-align: top;\n",
              "    }\n",
              "\n",
              "    .dataframe thead th {\n",
              "        text-align: right;\n",
              "    }\n",
              "</style>\n",
              "<table border=\"1\" class=\"dataframe\">\n",
              "  <thead>\n",
              "    <tr style=\"text-align: right;\">\n",
              "      <th></th>\n",
              "      <th>review</th>\n",
              "      <th>label</th>\n",
              "      <th>length</th>\n",
              "    </tr>\n",
              "  </thead>\n",
              "  <tbody>\n",
              "    <tr>\n",
              "      <th>0</th>\n",
              "      <td>Though not in the whole film Andy Griffith aga...</td>\n",
              "      <td>1</td>\n",
              "      <td>350</td>\n",
              "    </tr>\n",
              "    <tr>\n",
              "      <th>1</th>\n",
              "      <td>It is no surprise that writer/director Michael...</td>\n",
              "      <td>1</td>\n",
              "      <td>4458</td>\n",
              "    </tr>\n",
              "  </tbody>\n",
              "</table>\n",
              "</div>"
            ],
            "text/plain": [
              "                                              review  label  length\n",
              "0  Though not in the whole film Andy Griffith aga...      1     350\n",
              "1  It is no surprise that writer/director Michael...      1    4458"
            ]
          },
          "metadata": {
            "tags": []
          },
          "execution_count": 14
        }
      ]
    },
    {
      "cell_type": "code",
      "metadata": {
        "id": "IhWHwT-v7zkP",
        "colab_type": "code",
        "outputId": "62479ca1-87a8-434d-c26d-7dfea0525738",
        "colab": {
          "base_uri": "https://localhost:8080/",
          "height": 112
        }
      },
      "source": [
        "df_test.head(2)"
      ],
      "execution_count": 15,
      "outputs": [
        {
          "output_type": "execute_result",
          "data": {
            "text/html": [
              "<div>\n",
              "<style scoped>\n",
              "    .dataframe tbody tr th:only-of-type {\n",
              "        vertical-align: middle;\n",
              "    }\n",
              "\n",
              "    .dataframe tbody tr th {\n",
              "        vertical-align: top;\n",
              "    }\n",
              "\n",
              "    .dataframe thead th {\n",
              "        text-align: right;\n",
              "    }\n",
              "</style>\n",
              "<table border=\"1\" class=\"dataframe\">\n",
              "  <thead>\n",
              "    <tr style=\"text-align: right;\">\n",
              "      <th></th>\n",
              "      <th>review</th>\n",
              "      <th>label</th>\n",
              "      <th>length</th>\n",
              "    </tr>\n",
              "  </thead>\n",
              "  <tbody>\n",
              "    <tr>\n",
              "      <th>0</th>\n",
              "      <td>I absolutely love this film Everything about i...</td>\n",
              "      <td>1</td>\n",
              "      <td>347</td>\n",
              "    </tr>\n",
              "    <tr>\n",
              "      <th>1</th>\n",
              "      <td>Set in and near a poor working class town in t...</td>\n",
              "      <td>1</td>\n",
              "      <td>1980</td>\n",
              "    </tr>\n",
              "  </tbody>\n",
              "</table>\n",
              "</div>"
            ],
            "text/plain": [
              "                                              review  label  length\n",
              "0  I absolutely love this film Everything about i...      1     347\n",
              "1  Set in and near a poor working class town in t...      1    1980"
            ]
          },
          "metadata": {
            "tags": []
          },
          "execution_count": 15
        }
      ]
    },
    {
      "cell_type": "code",
      "metadata": {
        "id": "v6k-aTzNQbsm",
        "colab_type": "code",
        "outputId": "150b4fea-d1bc-4b60-ea1d-965ffa1e861d",
        "colab": {
          "base_uri": "https://localhost:8080/",
          "height": 52
        }
      },
      "source": [
        "print(df_train.shape)\n",
        "print(df_test.shape)"
      ],
      "execution_count": 16,
      "outputs": [
        {
          "output_type": "stream",
          "text": [
            "(25000, 3)\n",
            "(25000, 3)\n"
          ],
          "name": "stdout"
        }
      ]
    },
    {
      "cell_type": "code",
      "metadata": {
        "id": "MlXM5JW215NV",
        "colab_type": "code",
        "outputId": "3ea283c4-22b6-4aff-c066-d0ef7bfc08ee",
        "colab": {
          "base_uri": "https://localhost:8080/",
          "height": 343
        }
      },
      "source": [
        "fig, ax = plt.subplots(figsize=(15, 5))\n",
        "ax.hist(df_train[\"length\"], label=\"train\", alpha=.8, bins=40)\n",
        "ax.hist(df_test[\"length\"], label=\"test\", alpha=.8, bins=40)\n",
        "ax.axvline(400, color=\"black\", ls=\"--\")\n",
        "ax.axvline(6000, color=\"black\", ls=\"--\")\n",
        "plt.xlabel(\"review lengths\")\n",
        "plt.ylabel(\"numbers\")\n",
        "plt.legend()\n",
        "plt.yscale(\"log\")\n",
        "plt.show()"
      ],
      "execution_count": 17,
      "outputs": [
        {
          "output_type": "display_data",
          "data": {
            "image/png": "[encoded data removed]",
            "text/plain": [
              "<Figure size 1080x360 with 1 Axes>"
            ]
          },
          "metadata": {
            "tags": [],
            "image/png": {
              "width": 921,
              "height": 326
            }
          }
        }
      ]
    },
    {
      "cell_type": "code",
      "metadata": {
        "id": "BKSoj4H06gu8",
        "colab_type": "code",
        "colab": {}
      },
      "source": [
        "df_train = df_train[df_train[\"length\"].between(400, 6000, inclusive=True)]\n",
        "df_test = df_test[df_test[\"length\"].between(400, 6000, inclusive=True)]"
      ],
      "execution_count": 0,
      "outputs": []
    },
    {
      "cell_type": "code",
      "metadata": {
        "id": "xAqPR4fiQMTd",
        "colab_type": "code",
        "outputId": "a1e78a27-c539-4b7e-e80c-483f6f906ff5",
        "colab": {
          "base_uri": "https://localhost:8080/",
          "height": 52
        }
      },
      "source": [
        "print(df_train.shape)\n",
        "print(df_test.shape)"
      ],
      "execution_count": 19,
      "outputs": [
        {
          "output_type": "stream",
          "text": [
            "(23222, 3)\n",
            "(23139, 3)\n"
          ],
          "name": "stdout"
        }
      ]
    },
    {
      "cell_type": "markdown",
      "metadata": {
        "id": "Gi2_YQ1D7iQY",
        "colab_type": "text"
      },
      "source": [
        "Dataset is still balanced after outliers removal"
      ]
    },
    {
      "cell_type": "code",
      "metadata": {
        "id": "1U5wh8tL8wKx",
        "colab_type": "code",
        "outputId": "6a207203-3b5c-4a21-bff2-53e1f0a0d700",
        "colab": {
          "base_uri": "https://localhost:8080/",
          "height": 343
        }
      },
      "source": [
        "fig, ax = plt.subplots(figsize=(15, 5))\n",
        "ax.hist(df_train[\"length\"], label=\"train\", alpha=.8, bins=40)\n",
        "ax.hist(df_test[\"length\"], label=\"test\", alpha=.8, bins=40)\n",
        "ax.axvline(400, color=\"black\", ls=\"--\")\n",
        "ax.axvline(6000, color=\"black\", ls=\"--\")\n",
        "plt.xlabel(\"review lengths\")\n",
        "plt.ylabel(\"numbers\")\n",
        "plt.legend()\n",
        "plt.yscale(\"log\")\n",
        "plt.show()"
      ],
      "execution_count": 20,
      "outputs": [
        {
          "output_type": "display_data",
          "data": {
            "image/png": "[encoded data removed]",
            "text/plain": [
              "<Figure size 1080x360 with 1 Axes>"
            ]
          },
          "metadata": {
            "tags": [],
            "image/png": {
              "width": 902,
              "height": 326
            }
          }
        }
      ]
    },
    {
      "cell_type": "markdown",
      "metadata": {
        "id": "9tIYqdY3eqje",
        "colab_type": "text"
      },
      "source": [
        "# SVM model based on TF-IDF"
      ]
    },
    {
      "cell_type": "code",
      "metadata": {
        "id": "0qjXvXlm9j58",
        "colab_type": "code",
        "colab": {}
      },
      "source": [
        "vectorizer = TfidfVectorizer(sublinear_tf=True, strip_accents=\"ascii\", token_pattern=r'(?u)\\b[A-Za-z]+\\b', min_df=.001)"
      ],
      "execution_count": 0,
      "outputs": []
    },
    {
      "cell_type": "code",
      "metadata": {
        "id": "PqLmg0yY9j6E",
        "colab_type": "code",
        "colab": {}
      },
      "source": [
        "vectorizer = vectorizer.fit(df_train[\"review\"])"
      ],
      "execution_count": 0,
      "outputs": []
    },
    {
      "cell_type": "markdown",
      "metadata": {
        "id": "C0IMzt7V75Mk",
        "colab_type": "text"
      },
      "source": [
        "## Check resulting vocab and idf distribution"
      ]
    },
    {
      "cell_type": "code",
      "metadata": {
        "id": "55AxoC9T9j6L",
        "colab_type": "code",
        "colab": {}
      },
      "source": [
        "df_vocab = pd.DataFrame.from_dict({v : k for k, v in vectorizer.vocabulary_.items()}, orient=\"index\", columns=[\"word\"])"
      ],
      "execution_count": 0,
      "outputs": []
    },
    {
      "cell_type": "code",
      "metadata": {
        "id": "7KzH62mH-6Nw",
        "colab_type": "code",
        "outputId": "3293ccb8-b86c-4968-e223-72fe0eb0757c",
        "colab": {
          "base_uri": "https://localhost:8080/",
          "height": 34
        }
      },
      "source": [
        "df_vocab.shape"
      ],
      "execution_count": 0,
      "outputs": [
        {
          "output_type": "execute_result",
          "data": {
            "text/plain": [
              "(10440, 1)"
            ]
          },
          "metadata": {
            "tags": []
          },
          "execution_count": 24
        }
      ]
    },
    {
      "cell_type": "code",
      "metadata": {
        "id": "vzA1wWlQ9j6P",
        "colab_type": "code",
        "outputId": "d8d9c33b-640b-49af-a3b2-d2ac618a10b1",
        "colab": {
          "base_uri": "https://localhost:8080/",
          "height": 112
        }
      },
      "source": [
        "df_vocab.head(2)"
      ],
      "execution_count": 0,
      "outputs": [
        {
          "output_type": "execute_result",
          "data": {
            "text/html": [
              "<div>\n",
              "<style scoped>\n",
              "    .dataframe tbody tr th:only-of-type {\n",
              "        vertical-align: middle;\n",
              "    }\n",
              "\n",
              "    .dataframe tbody tr th {\n",
              "        vertical-align: top;\n",
              "    }\n",
              "\n",
              "    .dataframe thead th {\n",
              "        text-align: right;\n",
              "    }\n",
              "</style>\n",
              "<table border=\"1\" class=\"dataframe\">\n",
              "  <thead>\n",
              "    <tr style=\"text-align: right;\">\n",
              "      <th></th>\n",
              "      <th>word</th>\n",
              "    </tr>\n",
              "  </thead>\n",
              "  <tbody>\n",
              "    <tr>\n",
              "      <th>4967</th>\n",
              "      <td>it</td>\n",
              "    </tr>\n",
              "    <tr>\n",
              "      <th>4955</th>\n",
              "      <td>is</td>\n",
              "    </tr>\n",
              "  </tbody>\n",
              "</table>\n",
              "</div>"
            ],
            "text/plain": [
              "     word\n",
              "4967   it\n",
              "4955   is"
            ]
          },
          "metadata": {
            "tags": []
          },
          "execution_count": 25
        }
      ]
    },
    {
      "cell_type": "code",
      "metadata": {
        "id": "i06f4o7q9j6V",
        "colab_type": "code",
        "colab": {}
      },
      "source": [
        "df_vocab = df_vocab.sort_index()"
      ],
      "execution_count": 0,
      "outputs": []
    },
    {
      "cell_type": "code",
      "metadata": {
        "id": "HKXdwknu9j6a",
        "colab_type": "code",
        "outputId": "0180cf2c-52ae-4515-f407-5fae6908ef29",
        "colab": {
          "base_uri": "https://localhost:8080/",
          "height": 112
        }
      },
      "source": [
        "df_vocab.head(2)"
      ],
      "execution_count": 0,
      "outputs": [
        {
          "output_type": "execute_result",
          "data": {
            "text/html": [
              "<div>\n",
              "<style scoped>\n",
              "    .dataframe tbody tr th:only-of-type {\n",
              "        vertical-align: middle;\n",
              "    }\n",
              "\n",
              "    .dataframe tbody tr th {\n",
              "        vertical-align: top;\n",
              "    }\n",
              "\n",
              "    .dataframe thead th {\n",
              "        text-align: right;\n",
              "    }\n",
              "</style>\n",
              "<table border=\"1\" class=\"dataframe\">\n",
              "  <thead>\n",
              "    <tr style=\"text-align: right;\">\n",
              "      <th></th>\n",
              "      <th>word</th>\n",
              "    </tr>\n",
              "  </thead>\n",
              "  <tbody>\n",
              "    <tr>\n",
              "      <th>0</th>\n",
              "      <td>a</td>\n",
              "    </tr>\n",
              "    <tr>\n",
              "      <th>1</th>\n",
              "      <td>abandon</td>\n",
              "    </tr>\n",
              "  </tbody>\n",
              "</table>\n",
              "</div>"
            ],
            "text/plain": [
              "      word\n",
              "0        a\n",
              "1  abandon"
            ]
          },
          "metadata": {
            "tags": []
          },
          "execution_count": 27
        }
      ]
    },
    {
      "cell_type": "code",
      "metadata": {
        "id": "woMx4yN39j6i",
        "colab_type": "code",
        "colab": {}
      },
      "source": [
        "df_vocab[\"idf\"] = pd.Series(vectorizer.idf_)"
      ],
      "execution_count": 0,
      "outputs": []
    },
    {
      "cell_type": "code",
      "metadata": {
        "id": "uAGih-v69j6m",
        "colab_type": "code",
        "outputId": "b875adfb-d896-426b-a65a-a383c65b8474",
        "colab": {
          "base_uri": "https://localhost:8080/",
          "height": 206
        }
      },
      "source": [
        "df_vocab.head()"
      ],
      "execution_count": 0,
      "outputs": [
        {
          "output_type": "execute_result",
          "data": {
            "text/html": [
              "<div>\n",
              "<style scoped>\n",
              "    .dataframe tbody tr th:only-of-type {\n",
              "        vertical-align: middle;\n",
              "    }\n",
              "\n",
              "    .dataframe tbody tr th {\n",
              "        vertical-align: top;\n",
              "    }\n",
              "\n",
              "    .dataframe thead th {\n",
              "        text-align: right;\n",
              "    }\n",
              "</style>\n",
              "<table border=\"1\" class=\"dataframe\">\n",
              "  <thead>\n",
              "    <tr style=\"text-align: right;\">\n",
              "      <th></th>\n",
              "      <th>word</th>\n",
              "      <th>idf</th>\n",
              "    </tr>\n",
              "  </thead>\n",
              "  <tbody>\n",
              "    <tr>\n",
              "      <th>0</th>\n",
              "      <td>a</td>\n",
              "      <td>1.019963</td>\n",
              "    </tr>\n",
              "    <tr>\n",
              "      <th>1</th>\n",
              "      <td>abandon</td>\n",
              "      <td>7.101655</td>\n",
              "    </tr>\n",
              "    <tr>\n",
              "      <th>2</th>\n",
              "      <td>abandoned</td>\n",
              "      <td>5.893843</td>\n",
              "    </tr>\n",
              "    <tr>\n",
              "      <th>3</th>\n",
              "      <td>abc</td>\n",
              "      <td>6.646179</td>\n",
              "    </tr>\n",
              "    <tr>\n",
              "      <th>4</th>\n",
              "      <td>abducted</td>\n",
              "      <td>7.651701</td>\n",
              "    </tr>\n",
              "  </tbody>\n",
              "</table>\n",
              "</div>"
            ],
            "text/plain": [
              "        word       idf\n",
              "0          a  1.019963\n",
              "1    abandon  7.101655\n",
              "2  abandoned  5.893843\n",
              "3        abc  6.646179\n",
              "4   abducted  7.651701"
            ]
          },
          "metadata": {
            "tags": []
          },
          "execution_count": 29
        }
      ]
    },
    {
      "cell_type": "markdown",
      "metadata": {
        "id": "9_2u8mKn8F12",
        "colab_type": "text"
      },
      "source": [
        "### Least meaningfull words"
      ]
    },
    {
      "cell_type": "code",
      "metadata": {
        "id": "e3wKyV_V9j6t",
        "colab_type": "code",
        "outputId": "ed96b3b7-f6e6-4a8a-ace9-550b1f4e6b1a",
        "colab": {
          "base_uri": "https://localhost:8080/",
          "height": 206
        }
      },
      "source": [
        "df_vocab.sort_values([\"idf\"], ascending=True).head()"
      ],
      "execution_count": 0,
      "outputs": [
        {
          "output_type": "execute_result",
          "data": {
            "text/html": [
              "<div>\n",
              "<style scoped>\n",
              "    .dataframe tbody tr th:only-of-type {\n",
              "        vertical-align: middle;\n",
              "    }\n",
              "\n",
              "    .dataframe tbody tr th {\n",
              "        vertical-align: top;\n",
              "    }\n",
              "\n",
              "    .dataframe thead th {\n",
              "        text-align: right;\n",
              "    }\n",
              "</style>\n",
              "<table border=\"1\" class=\"dataframe\">\n",
              "  <thead>\n",
              "    <tr style=\"text-align: right;\">\n",
              "      <th></th>\n",
              "      <th>word</th>\n",
              "      <th>idf</th>\n",
              "    </tr>\n",
              "  </thead>\n",
              "  <tbody>\n",
              "    <tr>\n",
              "      <th>9367</th>\n",
              "      <td>the</td>\n",
              "      <td>1.002328</td>\n",
              "    </tr>\n",
              "    <tr>\n",
              "      <th>0</th>\n",
              "      <td>a</td>\n",
              "      <td>1.019963</td>\n",
              "    </tr>\n",
              "    <tr>\n",
              "      <th>343</th>\n",
              "      <td>and</td>\n",
              "      <td>1.021546</td>\n",
              "    </tr>\n",
              "    <tr>\n",
              "      <th>6414</th>\n",
              "      <td>of</td>\n",
              "      <td>1.033318</td>\n",
              "    </tr>\n",
              "    <tr>\n",
              "      <th>9501</th>\n",
              "      <td>to</td>\n",
              "      <td>1.039391</td>\n",
              "    </tr>\n",
              "  </tbody>\n",
              "</table>\n",
              "</div>"
            ],
            "text/plain": [
              "     word       idf\n",
              "9367  the  1.002328\n",
              "0       a  1.019963\n",
              "343   and  1.021546\n",
              "6414   of  1.033318\n",
              "9501   to  1.039391"
            ]
          },
          "metadata": {
            "tags": []
          },
          "execution_count": 30
        }
      ]
    },
    {
      "cell_type": "code",
      "metadata": {
        "id": "80ZZTKa29j7J",
        "colab_type": "code",
        "outputId": "8ca16857-c286-41e7-b9a9-763924027362",
        "colab": {
          "base_uri": "https://localhost:8080/",
          "height": 325
        }
      },
      "source": [
        "fig, ax = plt.subplots(figsize=(15, 5))\n",
        "ax.hist(df_vocab[\"idf\"], bins=20)\n",
        "plt.yscale(\"log\")\n",
        "plt.show()"
      ],
      "execution_count": 0,
      "outputs": [
        {
          "output_type": "display_data",
          "data": {
            "image/png": "[encoded data removed]",
            "text/plain": [
              "<Figure size 1080x360 with 1 Axes>"
            ]
          },
          "metadata": {
            "tags": [],
            "image/png": {
              "width": 884,
              "height": 308
            }
          }
        }
      ]
    },
    {
      "cell_type": "markdown",
      "metadata": {
        "id": "RXR9Jgz88NuY",
        "colab_type": "text"
      },
      "source": [
        "### Most meaningfull words"
      ]
    },
    {
      "cell_type": "code",
      "metadata": {
        "id": "P8ynmsVt1N87",
        "colab_type": "code",
        "outputId": "f2ad5c8a-3345-4dad-bd69-2094a3696285",
        "colab": {
          "base_uri": "https://localhost:8080/",
          "height": 206
        }
      },
      "source": [
        "df_vocab.sort_values([\"idf\"], ascending=False).head()"
      ],
      "execution_count": 0,
      "outputs": [
        {
          "output_type": "execute_result",
          "data": {
            "text/html": [
              "<div>\n",
              "<style scoped>\n",
              "    .dataframe tbody tr th:only-of-type {\n",
              "        vertical-align: middle;\n",
              "    }\n",
              "\n",
              "    .dataframe tbody tr th {\n",
              "        vertical-align: top;\n",
              "    }\n",
              "\n",
              "    .dataframe thead th {\n",
              "        text-align: right;\n",
              "    }\n",
              "</style>\n",
              "<table border=\"1\" class=\"dataframe\">\n",
              "  <thead>\n",
              "    <tr style=\"text-align: right;\">\n",
              "      <th></th>\n",
              "      <th>word</th>\n",
              "      <th>idf</th>\n",
              "    </tr>\n",
              "  </thead>\n",
              "  <tbody>\n",
              "    <tr>\n",
              "      <th>9363</th>\n",
              "      <td>thankless</td>\n",
              "      <td>7.834023</td>\n",
              "    </tr>\n",
              "    <tr>\n",
              "      <th>256</th>\n",
              "      <td>alienate</td>\n",
              "      <td>7.834023</td>\n",
              "    </tr>\n",
              "    <tr>\n",
              "      <th>8017</th>\n",
              "      <td>sample</td>\n",
              "      <td>7.834023</td>\n",
              "    </tr>\n",
              "    <tr>\n",
              "      <th>838</th>\n",
              "      <td>believably</td>\n",
              "      <td>7.834023</td>\n",
              "    </tr>\n",
              "    <tr>\n",
              "      <th>6774</th>\n",
              "      <td>perkins</td>\n",
              "      <td>7.834023</td>\n",
              "    </tr>\n",
              "  </tbody>\n",
              "</table>\n",
              "</div>"
            ],
            "text/plain": [
              "            word       idf\n",
              "9363   thankless  7.834023\n",
              "256     alienate  7.834023\n",
              "8017      sample  7.834023\n",
              "838   believably  7.834023\n",
              "6774     perkins  7.834023"
            ]
          },
          "metadata": {
            "tags": []
          },
          "execution_count": 32
        }
      ]
    },
    {
      "cell_type": "code",
      "metadata": {
        "id": "WfqnYZ_49j7g",
        "colab_type": "code",
        "colab": {}
      },
      "source": [
        "X_train = vectorizer.transform(df_train[\"review\"].values)"
      ],
      "execution_count": 0,
      "outputs": []
    },
    {
      "cell_type": "code",
      "metadata": {
        "id": "IBag_eZXPuSf",
        "colab_type": "code",
        "outputId": "9590ea44-b4fa-4c02-ac83-7c8637535cec",
        "colab": {
          "base_uri": "https://localhost:8080/",
          "height": 34
        }
      },
      "source": [
        "print(X_train[0].shape)"
      ],
      "execution_count": 0,
      "outputs": [
        {
          "output_type": "stream",
          "text": [
            "(1, 10440)\n"
          ],
          "name": "stdout"
        }
      ]
    },
    {
      "cell_type": "code",
      "metadata": {
        "id": "KMeL25fe9j7l",
        "colab_type": "code",
        "outputId": "1f274dee-7a92-4750-f150-8c3617383de0",
        "colab": {
          "base_uri": "https://localhost:8080/",
          "height": 34
        }
      },
      "source": [
        "print(X_train.toarray().shape)"
      ],
      "execution_count": 0,
      "outputs": [
        {
          "output_type": "stream",
          "text": [
            "(23222, 10440)\n"
          ],
          "name": "stdout"
        }
      ]
    },
    {
      "cell_type": "code",
      "metadata": {
        "id": "ZzdmhImM9j7q",
        "colab_type": "code",
        "colab": {}
      },
      "source": [
        "y_train = df_train[\"label\"].values"
      ],
      "execution_count": 0,
      "outputs": []
    },
    {
      "cell_type": "code",
      "metadata": {
        "id": "RefWvILP9j7s",
        "colab_type": "code",
        "outputId": "ed20b73c-eb82-44a1-cc8a-df5d3634eae4",
        "colab": {
          "base_uri": "https://localhost:8080/",
          "height": 34
        }
      },
      "source": [
        "y_train.shape"
      ],
      "execution_count": 0,
      "outputs": [
        {
          "output_type": "execute_result",
          "data": {
            "text/plain": [
              "(23222,)"
            ]
          },
          "metadata": {
            "tags": []
          },
          "execution_count": 43
        }
      ]
    },
    {
      "cell_type": "code",
      "metadata": {
        "id": "WJc_ahug9j7w",
        "colab_type": "code",
        "colab": {}
      },
      "source": [
        "X_test = vectorizer.transform(df_test[\"review\"].values)"
      ],
      "execution_count": 0,
      "outputs": []
    },
    {
      "cell_type": "code",
      "metadata": {
        "id": "bGkz984B9j7y",
        "colab_type": "code",
        "outputId": "193d05d7-7fd0-45c8-b917-1e4f5b66b086",
        "colab": {
          "base_uri": "https://localhost:8080/",
          "height": 34
        }
      },
      "source": [
        "X_test.toarray().shape"
      ],
      "execution_count": 0,
      "outputs": [
        {
          "output_type": "execute_result",
          "data": {
            "text/plain": [
              "(23139, 10440)"
            ]
          },
          "metadata": {
            "tags": []
          },
          "execution_count": 39
        }
      ]
    },
    {
      "cell_type": "code",
      "metadata": {
        "id": "HLv3wNo99j71",
        "colab_type": "code",
        "colab": {}
      },
      "source": [
        "y_test = df_test[\"label\"].values"
      ],
      "execution_count": 0,
      "outputs": []
    },
    {
      "cell_type": "code",
      "metadata": {
        "id": "zyDsKryO9j73",
        "colab_type": "code",
        "outputId": "6be37b9f-7103-4626-ee28-4e86c751a8a4",
        "colab": {
          "base_uri": "https://localhost:8080/",
          "height": 34
        }
      },
      "source": [
        "y_test.shape"
      ],
      "execution_count": 0,
      "outputs": [
        {
          "output_type": "execute_result",
          "data": {
            "text/plain": [
              "(23139,)"
            ]
          },
          "metadata": {
            "tags": []
          },
          "execution_count": 45
        }
      ]
    },
    {
      "cell_type": "code",
      "metadata": {
        "id": "oC6ZbrXL9j76",
        "colab_type": "code",
        "colab": {}
      },
      "source": [
        "clf = SVC(gamma=\"auto\", kernel=\"linear\")"
      ],
      "execution_count": 0,
      "outputs": []
    },
    {
      "cell_type": "code",
      "metadata": {
        "id": "zF69WYdS9j78",
        "colab_type": "code",
        "outputId": "969b26aa-6aac-441b-9dec-44cf1a83ffd5",
        "colab": {
          "base_uri": "https://localhost:8080/",
          "height": 86
        }
      },
      "source": [
        "clf.fit(X_train, y_train)"
      ],
      "execution_count": 0,
      "outputs": [
        {
          "output_type": "execute_result",
          "data": {
            "text/plain": [
              "SVC(C=1.0, cache_size=200, class_weight=None, coef0=0.0,\n",
              "    decision_function_shape='ovr', degree=3, gamma='auto', kernel='linear',\n",
              "    max_iter=-1, probability=False, random_state=None, shrinking=True,\n",
              "    tol=0.001, verbose=False)"
            ]
          },
          "metadata": {
            "tags": []
          },
          "execution_count": 47
        }
      ]
    },
    {
      "cell_type": "markdown",
      "metadata": {
        "id": "6y9jqaiL9s-2",
        "colab_type": "text"
      },
      "source": [
        "## Results"
      ]
    },
    {
      "cell_type": "code",
      "metadata": {
        "colab_type": "code",
        "outputId": "f8352417-11f4-4e60-fde6-791dbba59d39",
        "id": "Sxr6dPEKB1gL",
        "colab": {
          "base_uri": "https://localhost:8080/",
          "height": 312
        }
      },
      "source": [
        "classification_report(y_train, clf.predict(X_train), output_dict=True)"
      ],
      "execution_count": 0,
      "outputs": [
        {
          "output_type": "execute_result",
          "data": {
            "text/plain": [
              "{'0': {'f1-score': 0.9489904810688522,\n",
              "  'precision': 0.9510609171800137,\n",
              "  'recall': 0.9469290399522957,\n",
              "  'support': 11739},\n",
              " '1': {'f1-score': 0.948081852543772,\n",
              "  'precision': 0.9459857811687186,\n",
              "  'recall': 0.9501872333014021,\n",
              "  'support': 11483},\n",
              " 'accuracy': 0.9485401774179657,\n",
              " 'macro avg': {'f1-score': 0.9485361668063121,\n",
              "  'precision': 0.9485233491743661,\n",
              "  'recall': 0.948558136626849,\n",
              "  'support': 23222},\n",
              " 'weighted avg': {'f1-score': 0.9485411751798892,\n",
              "  'precision': 0.9485513233974927,\n",
              "  'recall': 0.9485401774179657,\n",
              "  'support': 23222}}"
            ]
          },
          "metadata": {
            "tags": []
          },
          "execution_count": 48
        }
      ]
    },
    {
      "cell_type": "code",
      "metadata": {
        "colab_type": "code",
        "outputId": "39ab1fd4-7537-4ccc-b7a7-89cef5006d6a",
        "id": "VRddcYaxB1gu",
        "colab": {
          "base_uri": "https://localhost:8080/",
          "height": 312
        }
      },
      "source": [
        "classification_report(y_test, clf.predict(X_test), output_dict=True)"
      ],
      "execution_count": 0,
      "outputs": [
        {
          "output_type": "execute_result",
          "data": {
            "text/plain": [
              "{'0': {'f1-score': 0.8828605604921395,\n",
              "  'precision': 0.8792545949625595,\n",
              "  'recall': 0.8864962251201098,\n",
              "  'support': 11656},\n",
              " '1': {'f1-score': 0.880104940970704,\n",
              "  'precision': 0.8838148766136823,\n",
              "  'recall': 0.8764260210746321,\n",
              "  'support': 11483},\n",
              " 'accuracy': 0.8814987683132374,\n",
              " 'macro avg': {'f1-score': 0.8814827507314218,\n",
              "  'precision': 0.8815347357881209,\n",
              "  'recall': 0.881461123097371,\n",
              "  'support': 23139},\n",
              " 'weighted avg': {'f1-score': 0.8814930520015114,\n",
              "  'precision': 0.8815176881904364,\n",
              "  'recall': 0.8814987683132374,\n",
              "  'support': 23139}}"
            ]
          },
          "metadata": {
            "tags": []
          },
          "execution_count": 49
        }
      ]
    },
    {
      "cell_type": "markdown",
      "metadata": {
        "id": "_cXMTrG-9wKa",
        "colab_type": "text"
      },
      "source": [
        "Average acc score for SVM model is 88,15%"
      ]
    },
    {
      "cell_type": "markdown",
      "metadata": {
        "id": "UR-AcnWbc76M",
        "colab_type": "text"
      },
      "source": [
        "# LSTM with untrained embedding layer"
      ]
    },
    {
      "cell_type": "code",
      "metadata": {
        "id": "dFJMbWkk06rq",
        "colab_type": "code",
        "colab": {}
      },
      "source": [
        "max_vocab = 10000\n",
        "tokenizer = Tokenizer(num_words=max_vocab)"
      ],
      "execution_count": 0,
      "outputs": []
    },
    {
      "cell_type": "code",
      "metadata": {
        "id": "v4LmcUdRSxsa",
        "colab_type": "code",
        "colab": {}
      },
      "source": [
        "tokenizer.fit_on_texts(df_train[\"review\"].values)"
      ],
      "execution_count": 0,
      "outputs": []
    },
    {
      "cell_type": "code",
      "metadata": {
        "id": "kCNWWCueTDLr",
        "colab_type": "code",
        "colab": {}
      },
      "source": [
        "X_train = tokenizer.texts_to_sequences(df_train[\"review\"].values)"
      ],
      "execution_count": 0,
      "outputs": []
    },
    {
      "cell_type": "code",
      "metadata": {
        "id": "2epAiznVS9Zb",
        "colab_type": "code",
        "outputId": "a09a83ce-794d-4987-8912-691fe2632582",
        "colab": {
          "base_uri": "https://localhost:8080/",
          "height": 34
        }
      },
      "source": [
        "print(len(X_train))"
      ],
      "execution_count": 74,
      "outputs": [
        {
          "output_type": "stream",
          "text": [
            "23222\n"
          ],
          "name": "stdout"
        }
      ]
    },
    {
      "cell_type": "code",
      "metadata": {
        "id": "aWIgkS1o6iHh",
        "colab_type": "code",
        "outputId": "3125dc6a-6f18-435a-9d9c-39c8adaaa46d",
        "colab": {
          "base_uri": "https://localhost:8080/",
          "height": 34
        }
      },
      "source": [
        "max_length = 300\n",
        "print(max_length)"
      ],
      "execution_count": 75,
      "outputs": [
        {
          "output_type": "stream",
          "text": [
            "300\n"
          ],
          "name": "stdout"
        }
      ]
    },
    {
      "cell_type": "code",
      "metadata": {
        "id": "3pemtsNj3NIa",
        "colab_type": "code",
        "colab": {}
      },
      "source": [
        "X_train = pad_sequences(X_train, maxlen=max_length, padding=\"pre\", truncating=\"pre\")"
      ],
      "execution_count": 0,
      "outputs": []
    },
    {
      "cell_type": "code",
      "metadata": {
        "id": "---OZOeqy1tM",
        "colab_type": "code",
        "outputId": "0040ed15-0e51-40a1-8d1b-05bbae641901",
        "colab": {
          "base_uri": "https://localhost:8080/",
          "height": 34
        }
      },
      "source": [
        "print(X_train.shape)"
      ],
      "execution_count": 77,
      "outputs": [
        {
          "output_type": "stream",
          "text": [
            "(23222, 300)\n"
          ],
          "name": "stdout"
        }
      ]
    },
    {
      "cell_type": "code",
      "metadata": {
        "id": "U8GszoBh3gW9",
        "colab_type": "code",
        "outputId": "5ad91335-8de9-4239-f493-a36385a2ea0b",
        "colab": {
          "base_uri": "https://localhost:8080/",
          "height": 139
        }
      },
      "source": [
        "X_train"
      ],
      "execution_count": 78,
      "outputs": [
        {
          "output_type": "execute_result",
          "data": {
            "text/plain": [
              "array([[ 336, 1463,    1, ..., 3641,  941,    4],\n",
              "       [   0,    0,    0, ...,    7,   63,  693],\n",
              "       [   0,    0,    0, ...,  136,    6,  109],\n",
              "       ...,\n",
              "       [   0,    0,    0, ...,   10,   16, 1897],\n",
              "       [   0,    0,    0, ...,  386,  125, 1461],\n",
              "       [   0,    0,    0, ...,    5,   74,   79]], dtype=int32)"
            ]
          },
          "metadata": {
            "tags": []
          },
          "execution_count": 78
        }
      ]
    },
    {
      "cell_type": "code",
      "metadata": {
        "id": "KVTuENG-YL6e",
        "colab_type": "code",
        "colab": {}
      },
      "source": [
        "y_train = df_train[\"label\"].values"
      ],
      "execution_count": 0,
      "outputs": []
    },
    {
      "cell_type": "code",
      "metadata": {
        "id": "pXa_N9mvy9Ef",
        "colab_type": "code",
        "outputId": "1e79ce93-a870-4a8a-dbfe-76c40b80c109",
        "colab": {
          "base_uri": "https://localhost:8080/",
          "height": 34
        }
      },
      "source": [
        "print(y_train.shape)"
      ],
      "execution_count": 80,
      "outputs": [
        {
          "output_type": "stream",
          "text": [
            "(23222,)\n"
          ],
          "name": "stdout"
        }
      ]
    },
    {
      "cell_type": "code",
      "metadata": {
        "id": "cWuNHzDgyJ1y",
        "colab_type": "code",
        "outputId": "2733b85a-5e30-41f3-a1e0-f23ea0f19e9e",
        "colab": {
          "base_uri": "https://localhost:8080/",
          "height": 34
        }
      },
      "source": [
        "y_train"
      ],
      "execution_count": 81,
      "outputs": [
        {
          "output_type": "execute_result",
          "data": {
            "text/plain": [
              "array([1, 1, 1, ..., 0, 0, 0], dtype=int8)"
            ]
          },
          "metadata": {
            "tags": []
          },
          "execution_count": 81
        }
      ]
    },
    {
      "cell_type": "code",
      "metadata": {
        "id": "pI-4b2bTv2DG",
        "colab_type": "code",
        "colab": {}
      },
      "source": [
        "X_test = tokenizer.texts_to_sequences(df_test[\"review\"].values)"
      ],
      "execution_count": 0,
      "outputs": []
    },
    {
      "cell_type": "code",
      "metadata": {
        "id": "A-lwTLfn3rDd",
        "colab_type": "code",
        "outputId": "939dd8c4-1dce-4137-967a-431d5012c973",
        "colab": {
          "base_uri": "https://localhost:8080/",
          "height": 34
        }
      },
      "source": [
        "print(len(X_test))"
      ],
      "execution_count": 83,
      "outputs": [
        {
          "output_type": "stream",
          "text": [
            "23139\n"
          ],
          "name": "stdout"
        }
      ]
    },
    {
      "cell_type": "code",
      "metadata": {
        "id": "ox8AyNX33p7I",
        "colab_type": "code",
        "colab": {}
      },
      "source": [
        "X_test = pad_sequences(X_test, maxlen=max_length, padding=\"pre\", truncating=\"pre\")"
      ],
      "execution_count": 0,
      "outputs": []
    },
    {
      "cell_type": "code",
      "metadata": {
        "id": "JhZtlo4GzaxK",
        "colab_type": "code",
        "outputId": "a0ccc5b2-c978-4485-b2e0-3f61b8373732",
        "colab": {
          "base_uri": "https://localhost:8080/",
          "height": 34
        }
      },
      "source": [
        "print(X_test.shape)"
      ],
      "execution_count": 85,
      "outputs": [
        {
          "output_type": "stream",
          "text": [
            "(23139, 300)\n"
          ],
          "name": "stdout"
        }
      ]
    },
    {
      "cell_type": "code",
      "metadata": {
        "id": "RY7giTS9307R",
        "colab_type": "code",
        "outputId": "c1f9a54a-1273-4580-abf0-f7c7451bacdc",
        "colab": {
          "base_uri": "https://localhost:8080/",
          "height": 139
        }
      },
      "source": [
        "X_test"
      ],
      "execution_count": 86,
      "outputs": [
        {
          "output_type": "execute_result",
          "data": {
            "text/plain": [
              "array([[   2,  735,    3, ...,    2,  582, 4161],\n",
              "       [   0,    0,    0, ...,  115,   10,   16],\n",
              "       [   0,    0,    0, ...,   41,    4,  162],\n",
              "       ...,\n",
              "       [   0,    0,    0, ...,    4, 1725,  431],\n",
              "       [   0,    0,    0, ...,   76,    1,  168],\n",
              "       [   0,    0,    0, ...,  251,    5,  103]], dtype=int32)"
            ]
          },
          "metadata": {
            "tags": []
          },
          "execution_count": 86
        }
      ]
    },
    {
      "cell_type": "code",
      "metadata": {
        "id": "5DgfhVNMzcFa",
        "colab_type": "code",
        "colab": {}
      },
      "source": [
        "y_test = df_test[\"label\"].values"
      ],
      "execution_count": 0,
      "outputs": []
    },
    {
      "cell_type": "code",
      "metadata": {
        "id": "tJiLpvrEzdL-",
        "colab_type": "code",
        "outputId": "a03d703b-4a3f-4b69-f0e6-a4cff96d2198",
        "colab": {
          "base_uri": "https://localhost:8080/",
          "height": 34
        }
      },
      "source": [
        "print(y_test.shape)"
      ],
      "execution_count": 88,
      "outputs": [
        {
          "output_type": "stream",
          "text": [
            "(23139,)\n"
          ],
          "name": "stdout"
        }
      ]
    },
    {
      "cell_type": "code",
      "metadata": {
        "id": "Tgpv7IQezgp2",
        "colab_type": "code",
        "outputId": "fbcbb27b-8075-4399-c5a5-46cd87d9d70f",
        "colab": {
          "base_uri": "https://localhost:8080/",
          "height": 34
        }
      },
      "source": [
        "y_test"
      ],
      "execution_count": 89,
      "outputs": [
        {
          "output_type": "execute_result",
          "data": {
            "text/plain": [
              "array([1, 1, 1, ..., 0, 0, 0], dtype=int8)"
            ]
          },
          "metadata": {
            "tags": []
          },
          "execution_count": 89
        }
      ]
    },
    {
      "cell_type": "markdown",
      "metadata": {
        "id": "YoBNHXgP8Z3i",
        "colab_type": "text"
      },
      "source": [
        "## Model declaration"
      ]
    },
    {
      "cell_type": "code",
      "metadata": {
        "id": "vERQmH-0hjEA",
        "colab_type": "code",
        "colab": {
          "base_uri": "https://localhost:8080/",
          "height": 278
        },
        "outputId": "4768bab4-a053-4b6a-dc0b-a97e5c3736cc"
      },
      "source": [
        "vocab_size = len(tokenizer.word_index)\n",
        "embedding_size = 32\n",
        "\n",
        "lstm_model = Sequential()\n",
        "lstm_model.add(Embedding(vocab_size, embedding_size, input_length=max_length))\n",
        "lstm_model.add(LSTM(256, dropout=0.8))\n",
        "lstm_model.add(Dropout(0.5))\n",
        "lstm_model.add(Dense(1, activation=\"sigmoid\"))\n",
        "lstm_model.compile(loss=\"binary_crossentropy\", optimizer=\"adam\", metrics=[\"accuracy\"])\n",
        "lstm_model.summary()"
      ],
      "execution_count": 97,
      "outputs": [
        {
          "output_type": "stream",
          "text": [
            "_________________________________________________________________\n",
            "Layer (type)                 Output Shape              Param #   \n",
            "=================================================================\n",
            "embedding_8 (Embedding)      (None, 300, 32)           3217664   \n",
            "_________________________________________________________________\n",
            "lstm_8 (LSTM)                (None, 256)               295936    \n",
            "_________________________________________________________________\n",
            "dropout_8 (Dropout)          (None, 256)               0         \n",
            "_________________________________________________________________\n",
            "dense_8 (Dense)              (None, 1)                 257       \n",
            "=================================================================\n",
            "Total params: 3,513,857\n",
            "Trainable params: 3,513,857\n",
            "Non-trainable params: 0\n",
            "_________________________________________________________________\n"
          ],
          "name": "stdout"
        }
      ]
    },
    {
      "cell_type": "code",
      "metadata": {
        "colab_type": "code",
        "id": "Z9V437ZYg7AN",
        "colab": {}
      },
      "source": [
        "weight_path = \"/content/gdrive/My Drive/data/lstm_best_weights.hdf5\"\n",
        "checkpoint = ModelCheckpoint(weight_path, monitor='val_acc', verbose=1, save_best_only=True, mode='max')\n",
        "earlystopping = EarlyStopping(monitor='val_loss', mode='min', verbose=1, patience=2, min_delta=0.01)\n",
        "callbacks = [checkpoint, earlystopping]"
      ],
      "execution_count": 0,
      "outputs": []
    },
    {
      "cell_type": "code",
      "metadata": {
        "colab_type": "code",
        "outputId": "9d3e0046-e675-4a05-9d7f-df8b0e4d128f",
        "id": "oee-sHaxg7Ak",
        "colab": {
          "base_uri": "https://localhost:8080/",
          "height": 558
        }
      },
      "source": [
        "lstm_history = lstm_model.fit(X_train, y_train, epochs=100, verbose=1, batch_size=256, validation_data=(X_test, y_test), callbacks=callbacks)"
      ],
      "execution_count": 99,
      "outputs": [
        {
          "output_type": "stream",
          "text": [
            "Train on 23222 samples, validate on 23139 samples\n",
            "Epoch 1/100\n",
            "23222/23222 [==============================] - 85s 4ms/step - loss: 0.6792 - acc: 0.5748 - val_loss: 0.6401 - val_acc: 0.6857\n",
            "\n",
            "Epoch 00001: val_acc improved from -inf to 0.68573, saving model to /content/gdrive/My Drive/data/lstm_best_weights.hdf5\n",
            "Epoch 2/100\n",
            "23222/23222 [==============================] - 83s 4ms/step - loss: 0.4576 - acc: 0.7891 - val_loss: 0.3558 - val_acc: 0.8481\n",
            "\n",
            "Epoch 00002: val_acc improved from 0.68573 to 0.84809, saving model to /content/gdrive/My Drive/data/lstm_best_weights.hdf5\n",
            "Epoch 3/100\n",
            "23222/23222 [==============================] - 83s 4ms/step - loss: 0.3532 - acc: 0.8521 - val_loss: 0.3525 - val_acc: 0.8536\n",
            "\n",
            "Epoch 00003: val_acc improved from 0.84809 to 0.85362, saving model to /content/gdrive/My Drive/data/lstm_best_weights.hdf5\n",
            "Epoch 4/100\n",
            "23222/23222 [==============================] - 84s 4ms/step - loss: 0.2928 - acc: 0.8805 - val_loss: 0.2950 - val_acc: 0.8765\n",
            "\n",
            "Epoch 00004: val_acc improved from 0.85362 to 0.87649, saving model to /content/gdrive/My Drive/data/lstm_best_weights.hdf5\n",
            "Epoch 5/100\n",
            "23222/23222 [==============================] - 84s 4ms/step - loss: 0.2556 - acc: 0.9004 - val_loss: 0.2793 - val_acc: 0.8837\n",
            "\n",
            "Epoch 00005: val_acc improved from 0.87649 to 0.88375, saving model to /content/gdrive/My Drive/data/lstm_best_weights.hdf5\n",
            "Epoch 6/100\n",
            "23222/23222 [==============================] - 83s 4ms/step - loss: 0.2426 - acc: 0.9067 - val_loss: 0.2896 - val_acc: 0.8830\n",
            "\n",
            "Epoch 00006: val_acc did not improve from 0.88375\n",
            "Epoch 7/100\n",
            "23222/23222 [==============================] - 83s 4ms/step - loss: 0.2209 - acc: 0.9150 - val_loss: 0.2921 - val_acc: 0.8788\n",
            "\n",
            "Epoch 00007: val_acc did not improve from 0.88375\n",
            "Epoch 00007: early stopping\n"
          ],
          "name": "stdout"
        }
      ]
    },
    {
      "cell_type": "markdown",
      "metadata": {
        "id": "IULMjAyZ890B",
        "colab_type": "text"
      },
      "source": [
        "## Results"
      ]
    },
    {
      "cell_type": "code",
      "metadata": {
        "id": "-IWHorAjliNU",
        "colab_type": "code",
        "colab": {
          "base_uri": "https://localhost:8080/",
          "height": 398
        },
        "outputId": "93461e64-7833-4610-9de9-096429c864b1"
      },
      "source": [
        "fig, ax = plt.subplots(figsize=(15,6))\n",
        "ax.plot(lstm_history.history[\"acc\"], label=\"train acc\", color=\"green\")\n",
        "ax.plot(lstm_history.history[\"loss\"], label=\"train loss\", color=\"green\", ls=\"--\")\n",
        "ax.plot(lstm_history.history[\"val_acc\"], label=\"test acc\", color=\"red\")\n",
        "ax.plot(lstm_history.history[\"val_loss\"], label=\"test loss\", color=\"red\", ls=\"--\")\n",
        "plt.xlabel(\"epoch\")\n",
        "plt.legend()\n",
        "plt.show()"
      ],
      "execution_count": 100,
      "outputs": [
        {
          "output_type": "display_data",
          "data": {
            "image/png": "[encoded data removed]",
            "text/plain": [
              "<Figure size 1080x432 with 1 Axes>"
            ]
          },
          "metadata": {
            "tags": [],
            "image/png": {
              "width": 882,
              "height": 381
            }
          }
        }
      ]
    },
    {
      "cell_type": "markdown",
      "metadata": {
        "id": "b1v3BSRt8hvx",
        "colab_type": "text"
      },
      "source": [
        "Training has been stopped before overfitting. The best acc obtained during training is 88,375% which is marginally better than SVM TF-IDF."
      ]
    },
    {
      "cell_type": "markdown",
      "metadata": {
        "id": "w8NRgLr4jJ8A",
        "colab_type": "text"
      },
      "source": [
        "# LSTM with pretrained embedding layer (word2vec Google news 300dim)"
      ]
    },
    {
      "cell_type": "code",
      "metadata": {
        "id": "gJ_g06ZrWTO8",
        "colab_type": "code",
        "colab": {}
      },
      "source": [
        "#!gunzip -k /content/gdrive/My\\ Drive/data/GoogleNews-vectors-negative300.bin.gz"
      ],
      "execution_count": 0,
      "outputs": []
    },
    {
      "cell_type": "code",
      "metadata": {
        "colab_type": "code",
        "id": "2fDnYcuEdTln",
        "colab": {}
      },
      "source": [
        "max_vocab = None\n",
        "tokenizer = Tokenizer()"
      ],
      "execution_count": 0,
      "outputs": []
    },
    {
      "cell_type": "code",
      "metadata": {
        "colab_type": "code",
        "id": "8qIx7_TvdTmD",
        "colab": {}
      },
      "source": [
        "tokenizer.fit_on_texts(df_train[\"review\"].values)"
      ],
      "execution_count": 0,
      "outputs": []
    },
    {
      "cell_type": "code",
      "metadata": {
        "id": "CnPfbguRlsGd",
        "colab_type": "code",
        "outputId": "a3ea9aa3-c2dd-404b-ef20-c841408d4ac7",
        "colab": {
          "base_uri": "https://localhost:8080/",
          "height": 34
        }
      },
      "source": [
        "vocab_size = len(tokenizer.word_index)\n",
        "print(vocab_size)"
      ],
      "execution_count": 164,
      "outputs": [
        {
          "output_type": "stream",
          "text": [
            "100552\n"
          ],
          "name": "stdout"
        }
      ]
    },
    {
      "cell_type": "code",
      "metadata": {
        "colab_type": "code",
        "id": "WFOfEv2LdTmN",
        "colab": {}
      },
      "source": [
        "X_train = tokenizer.texts_to_sequences(df_train[\"review\"].values)"
      ],
      "execution_count": 0,
      "outputs": []
    },
    {
      "cell_type": "code",
      "metadata": {
        "colab_type": "code",
        "outputId": "fb51f16c-9197-4d4a-9fc6-700dfe158780",
        "id": "Qolot042dTmU",
        "colab": {
          "base_uri": "https://localhost:8080/",
          "height": 34
        }
      },
      "source": [
        "len(X_train[1])"
      ],
      "execution_count": 166,
      "outputs": [
        {
          "output_type": "execute_result",
          "data": {
            "text/plain": [
              "251"
            ]
          },
          "metadata": {
            "tags": []
          },
          "execution_count": 166
        }
      ]
    },
    {
      "cell_type": "code",
      "metadata": {
        "colab_type": "code",
        "outputId": "90f6ae29-7f2d-445d-ddb1-1dbd477d0035",
        "id": "-VoxmnUGdTme",
        "colab": {
          "base_uri": "https://localhost:8080/",
          "height": 34
        }
      },
      "source": [
        "print(len(X_train))"
      ],
      "execution_count": 167,
      "outputs": [
        {
          "output_type": "stream",
          "text": [
            "23222\n"
          ],
          "name": "stdout"
        }
      ]
    },
    {
      "cell_type": "code",
      "metadata": {
        "colab_type": "code",
        "outputId": "0a5cbc96-d632-43a3-a863-a57a684b5865",
        "id": "1_PfOEiBdTml",
        "colab": {
          "base_uri": "https://localhost:8080/",
          "height": 34
        }
      },
      "source": [
        "max_length = 300\n",
        "print(max_length)"
      ],
      "execution_count": 168,
      "outputs": [
        {
          "output_type": "stream",
          "text": [
            "300\n"
          ],
          "name": "stdout"
        }
      ]
    },
    {
      "cell_type": "code",
      "metadata": {
        "colab_type": "code",
        "id": "FgvNPmnPdTmt",
        "colab": {}
      },
      "source": [
        "X_train = pad_sequences(X_train, maxlen=max_length, padding=\"pre\", truncating=\"pre\")"
      ],
      "execution_count": 0,
      "outputs": []
    },
    {
      "cell_type": "code",
      "metadata": {
        "colab_type": "code",
        "outputId": "0998e49a-6fdf-45b7-9014-c110d08e652a",
        "id": "51vTGrHNdTmx",
        "colab": {
          "base_uri": "https://localhost:8080/",
          "height": 34
        }
      },
      "source": [
        "print(X_train.shape)"
      ],
      "execution_count": 170,
      "outputs": [
        {
          "output_type": "stream",
          "text": [
            "(23222, 300)\n"
          ],
          "name": "stdout"
        }
      ]
    },
    {
      "cell_type": "code",
      "metadata": {
        "colab_type": "code",
        "outputId": "c04dfcb7-1d43-4ff2-9453-e58dcbf348f8",
        "id": "sUs2oU3ldTm7",
        "colab": {
          "base_uri": "https://localhost:8080/",
          "height": 139
        }
      },
      "source": [
        "X_train"
      ],
      "execution_count": 171,
      "outputs": [
        {
          "output_type": "execute_result",
          "data": {
            "text/plain": [
              "array([[  327,    56,     1, ...,     4, 15261, 10130],\n",
              "       [    0,     0,     0, ...,     7,    63,   693],\n",
              "       [    0,     0,     0, ...,   136,     6,   109],\n",
              "       ...,\n",
              "       [    0,     0,     0, ...,    10,    16,  1897],\n",
              "       [    0,     0,     0, ...,   386,   125,  1461],\n",
              "       [    0,     0,     0, ...,     5,    74,    79]], dtype=int32)"
            ]
          },
          "metadata": {
            "tags": []
          },
          "execution_count": 171
        }
      ]
    },
    {
      "cell_type": "code",
      "metadata": {
        "id": "AJczv5eZTsqT",
        "colab_type": "code",
        "colab": {}
      },
      "source": [
        "word2vec = gensim.models.KeyedVectors.load_word2vec_format('/content/gdrive/My Drive/data/GoogleNews-vectors-negative300.bin', binary=True)  "
      ],
      "execution_count": 0,
      "outputs": []
    },
    {
      "cell_type": "code",
      "metadata": {
        "id": "gHKfV8nBcCQz",
        "colab_type": "code",
        "outputId": "eeaebfba-c548-4fea-cd81-3832b3cd4732",
        "colab": {
          "base_uri": "https://localhost:8080/",
          "height": 34
        }
      },
      "source": [
        "len(word2vec.vocab)"
      ],
      "execution_count": 173,
      "outputs": [
        {
          "output_type": "execute_result",
          "data": {
            "text/plain": [
              "3000000"
            ]
          },
          "metadata": {
            "tags": []
          },
          "execution_count": 173
        }
      ]
    },
    {
      "cell_type": "code",
      "metadata": {
        "id": "zZpo11eLn912",
        "colab_type": "code",
        "outputId": "5621f81b-02c1-4601-e088-f8ce188e9d8b",
        "colab": {
          "base_uri": "https://localhost:8080/",
          "height": 34
        }
      },
      "source": [
        "word2vec.word_vec(\"test\").shape"
      ],
      "execution_count": 174,
      "outputs": [
        {
          "output_type": "execute_result",
          "data": {
            "text/plain": [
              "(300,)"
            ]
          },
          "metadata": {
            "tags": []
          },
          "execution_count": 174
        }
      ]
    },
    {
      "cell_type": "code",
      "metadata": {
        "id": "GBKlA3LcYjDU",
        "colab_type": "code",
        "colab": {}
      },
      "source": [
        "embedding_size = 300\n",
        "\n",
        "embedding_matrix = np.zeros((vocab_size, embedding_size))\n",
        "for word, i in tokenizer.word_index.items():\n",
        "  if word in word2vec.vocab:\n",
        "        embedding_matrix[i] = word2vec.word_vec(word)"
      ],
      "execution_count": 0,
      "outputs": []
    },
    {
      "cell_type": "code",
      "metadata": {
        "id": "X8wqdA3-Z4so",
        "colab_type": "code",
        "outputId": "e2493e3b-9d80-4be7-9f36-51ba3f980280",
        "colab": {
          "base_uri": "https://localhost:8080/",
          "height": 34
        }
      },
      "source": [
        "embedding_matrix.shape"
      ],
      "execution_count": 176,
      "outputs": [
        {
          "output_type": "execute_result",
          "data": {
            "text/plain": [
              "(100552, 300)"
            ]
          },
          "metadata": {
            "tags": []
          },
          "execution_count": 176
        }
      ]
    },
    {
      "cell_type": "code",
      "metadata": {
        "colab_type": "code",
        "id": "H3YJTstPdTnF",
        "colab": {}
      },
      "source": [
        "y_train = df_train[\"label\"].values"
      ],
      "execution_count": 0,
      "outputs": []
    },
    {
      "cell_type": "code",
      "metadata": {
        "colab_type": "code",
        "outputId": "383be0a6-a708-490a-82b3-c8a9a007d98f",
        "id": "rY4kPUAPdTnL",
        "colab": {
          "base_uri": "https://localhost:8080/",
          "height": 34
        }
      },
      "source": [
        "print(y_train.shape)"
      ],
      "execution_count": 178,
      "outputs": [
        {
          "output_type": "stream",
          "text": [
            "(23222,)\n"
          ],
          "name": "stdout"
        }
      ]
    },
    {
      "cell_type": "code",
      "metadata": {
        "colab_type": "code",
        "outputId": "033e6aeb-1ca3-4838-e163-4663e9ac8750",
        "id": "wnAjQGZUdTnW",
        "colab": {
          "base_uri": "https://localhost:8080/",
          "height": 34
        }
      },
      "source": [
        "y_train"
      ],
      "execution_count": 179,
      "outputs": [
        {
          "output_type": "execute_result",
          "data": {
            "text/plain": [
              "array([1, 1, 1, ..., 0, 0, 0], dtype=int8)"
            ]
          },
          "metadata": {
            "tags": []
          },
          "execution_count": 179
        }
      ]
    },
    {
      "cell_type": "code",
      "metadata": {
        "colab_type": "code",
        "id": "s8fmYv8wdTnb",
        "colab": {}
      },
      "source": [
        "X_test = tokenizer.texts_to_sequences(df_test[\"review\"].values)"
      ],
      "execution_count": 0,
      "outputs": []
    },
    {
      "cell_type": "code",
      "metadata": {
        "colab_type": "code",
        "outputId": "092be6f4-3e53-4d7f-8f9d-718e85fcb140",
        "id": "4NA2_Qd_dTne",
        "colab": {
          "base_uri": "https://localhost:8080/",
          "height": 34
        }
      },
      "source": [
        "print(len(X_test))"
      ],
      "execution_count": 181,
      "outputs": [
        {
          "output_type": "stream",
          "text": [
            "23139\n"
          ],
          "name": "stdout"
        }
      ]
    },
    {
      "cell_type": "code",
      "metadata": {
        "colab_type": "code",
        "id": "ZORsmJzidTnl",
        "colab": {}
      },
      "source": [
        "X_test = pad_sequences(X_test, maxlen=max_length, padding=\"pre\", truncating=\"pre\")"
      ],
      "execution_count": 0,
      "outputs": []
    },
    {
      "cell_type": "code",
      "metadata": {
        "colab_type": "code",
        "outputId": "5e2c5be1-24b6-4135-9332-1ff8d6de001e",
        "id": "UwvKjTcUdTnr",
        "colab": {
          "base_uri": "https://localhost:8080/",
          "height": 34
        }
      },
      "source": [
        "print(X_test.shape)"
      ],
      "execution_count": 183,
      "outputs": [
        {
          "output_type": "stream",
          "text": [
            "(23139, 300)\n"
          ],
          "name": "stdout"
        }
      ]
    },
    {
      "cell_type": "code",
      "metadata": {
        "colab_type": "code",
        "outputId": "995d5ec3-98df-487c-a9c4-af75415be164",
        "id": "OF0kigpEdTnx",
        "colab": {
          "base_uri": "https://localhost:8080/",
          "height": 139
        }
      },
      "source": [
        "X_test"
      ],
      "execution_count": 184,
      "outputs": [
        {
          "output_type": "execute_result",
          "data": {
            "text/plain": [
              "array([[ 2965, 10253, 16655, ...,     2,   582,  4161],\n",
              "       [    0,     0,     0, ...,   115,    10,    16],\n",
              "       [    0,     0,     0, ...,    41,     4,   162],\n",
              "       ...,\n",
              "       [    0,     0,     0, ...,     4,  1725,   431],\n",
              "       [    0,     0,     0, ...,    76,     1,   168],\n",
              "       [    0,     0,     0, ...,   251,     5,   103]], dtype=int32)"
            ]
          },
          "metadata": {
            "tags": []
          },
          "execution_count": 184
        }
      ]
    },
    {
      "cell_type": "code",
      "metadata": {
        "colab_type": "code",
        "id": "a_iFGKqudTn2",
        "colab": {}
      },
      "source": [
        "y_test = df_test[\"label\"].values"
      ],
      "execution_count": 0,
      "outputs": []
    },
    {
      "cell_type": "code",
      "metadata": {
        "colab_type": "code",
        "outputId": "738d16c0-b629-4825-95d3-f1153f2f73a4",
        "id": "h4IVHKi6dTn7",
        "colab": {
          "base_uri": "https://localhost:8080/",
          "height": 34
        }
      },
      "source": [
        "print(y_test.shape)"
      ],
      "execution_count": 186,
      "outputs": [
        {
          "output_type": "stream",
          "text": [
            "(23139,)\n"
          ],
          "name": "stdout"
        }
      ]
    },
    {
      "cell_type": "code",
      "metadata": {
        "colab_type": "code",
        "outputId": "a058464a-5dd7-4fad-bf21-0851874c4986",
        "id": "VFE4UdA5dToB",
        "colab": {
          "base_uri": "https://localhost:8080/",
          "height": 34
        }
      },
      "source": [
        "y_test"
      ],
      "execution_count": 187,
      "outputs": [
        {
          "output_type": "execute_result",
          "data": {
            "text/plain": [
              "array([1, 1, 1, ..., 0, 0, 0], dtype=int8)"
            ]
          },
          "metadata": {
            "tags": []
          },
          "execution_count": 187
        }
      ]
    },
    {
      "cell_type": "markdown",
      "metadata": {
        "id": "5ZdDW9vM854M",
        "colab_type": "text"
      },
      "source": [
        "## Model declaration"
      ]
    },
    {
      "cell_type": "code",
      "metadata": {
        "id": "2dcrPde6ciA5",
        "colab_type": "code",
        "outputId": "ff8310d9-0548-41d7-8d6f-255a4f927d95",
        "colab": {
          "base_uri": "https://localhost:8080/",
          "height": 278
        }
      },
      "source": [
        "lstm_w2v_model = Sequential()\n",
        "lstm_w2v_model.add(Embedding(vocab_size, embedding_size, input_length=max_length, weights=[embedding_matrix], trainable=False))\n",
        "lstm_w2v_model.add(LSTM(128, dropout=0.8))\n",
        "lstm_w2v_model.add(Dropout(0.5))\n",
        "lstm_w2v_model.add(Dense(1, activation=\"sigmoid\"))\n",
        "lstm_w2v_model.compile(loss=\"binary_crossentropy\", optimizer=\"adam\", metrics=[\"accuracy\"])\n",
        "lstm_w2v_model.summary()"
      ],
      "execution_count": 188,
      "outputs": [
        {
          "output_type": "stream",
          "text": [
            "_________________________________________________________________\n",
            "Layer (type)                 Output Shape              Param #   \n",
            "=================================================================\n",
            "embedding_11 (Embedding)     (None, 300, 300)          30165600  \n",
            "_________________________________________________________________\n",
            "lstm_11 (LSTM)               (None, 128)               219648    \n",
            "_________________________________________________________________\n",
            "dropout_11 (Dropout)         (None, 128)               0         \n",
            "_________________________________________________________________\n",
            "dense_11 (Dense)             (None, 1)                 129       \n",
            "=================================================================\n",
            "Total params: 30,385,377\n",
            "Trainable params: 219,777\n",
            "Non-trainable params: 30,165,600\n",
            "_________________________________________________________________\n"
          ],
          "name": "stdout"
        }
      ]
    },
    {
      "cell_type": "code",
      "metadata": {
        "id": "BPVbSRXrc-ZS",
        "colab_type": "code",
        "colab": {}
      },
      "source": [
        "weight_path = \"/content/gdrive/My Drive/data/lstm_w2v_best_weights.hdf5\"\n",
        "checkpoint = ModelCheckpoint(weight_path, monitor='val_acc', verbose=1, save_best_only=True, mode='max')\n",
        "earlystopping = EarlyStopping(monitor='val_loss', mode='min', verbose=1, patience=20, min_delta=0.01)\n",
        "callbacks = [checkpoint, earlystopping]"
      ],
      "execution_count": 0,
      "outputs": []
    },
    {
      "cell_type": "code",
      "metadata": {
        "id": "My_AFw_Yrw7p",
        "colab_type": "code",
        "outputId": "e33be27f-fe0d-49bc-b949-779c5a980602",
        "colab": {
          "base_uri": "https://localhost:8080/",
          "height": 4657
        }
      },
      "source": [
        "lstm_w2v_history = lstm_w2v_model.fit(X_train, y_train, epochs=100, verbose=1, batch_size=128, validation_data=(X_test, y_test), callbacks=callbacks)"
      ],
      "execution_count": 190,
      "outputs": [
        {
          "output_type": "stream",
          "text": [
            "Train on 23222 samples, validate on 23139 samples\n",
            "Epoch 1/100\n",
            "23222/23222 [==============================] - 151s 7ms/step - loss: 0.6510 - acc: 0.6103 - val_loss: 0.5036 - val_acc: 0.7812\n",
            "\n",
            "Epoch 00001: val_acc improved from -inf to 0.78119, saving model to /content/gdrive/My Drive/data/best_weights.hdf5\n",
            "Epoch 2/100\n",
            "23222/23222 [==============================] - 150s 6ms/step - loss: 0.6074 - acc: 0.6720 - val_loss: 0.5006 - val_acc: 0.7687\n",
            "\n",
            "Epoch 00002: val_acc did not improve from 0.78119\n",
            "Epoch 3/100\n",
            "23222/23222 [==============================] - 149s 6ms/step - loss: 0.5861 - acc: 0.6919 - val_loss: 0.5042 - val_acc: 0.7545\n",
            "\n",
            "Epoch 00003: val_acc did not improve from 0.78119\n",
            "Epoch 4/100\n",
            "23222/23222 [==============================] - 147s 6ms/step - loss: 0.5706 - acc: 0.7084 - val_loss: 0.4644 - val_acc: 0.7869\n",
            "\n",
            "Epoch 00004: val_acc improved from 0.78119 to 0.78690, saving model to /content/gdrive/My Drive/data/best_weights.hdf5\n",
            "Epoch 5/100\n",
            "23222/23222 [==============================] - 146s 6ms/step - loss: 0.5334 - acc: 0.7368 - val_loss: 0.4213 - val_acc: 0.8222\n",
            "\n",
            "Epoch 00005: val_acc improved from 0.78690 to 0.82216, saving model to /content/gdrive/My Drive/data/best_weights.hdf5\n",
            "Epoch 6/100\n",
            "23222/23222 [==============================] - 148s 6ms/step - loss: 0.4949 - acc: 0.7632 - val_loss: 0.4332 - val_acc: 0.8052\n",
            "\n",
            "Epoch 00006: val_acc did not improve from 0.82216\n",
            "Epoch 7/100\n",
            "23222/23222 [==============================] - 147s 6ms/step - loss: 0.4538 - acc: 0.7926 - val_loss: 0.3471 - val_acc: 0.8518\n",
            "\n",
            "Epoch 00007: val_acc improved from 0.82216 to 0.85181, saving model to /content/gdrive/My Drive/data/best_weights.hdf5\n",
            "Epoch 8/100\n",
            "23222/23222 [==============================] - 149s 6ms/step - loss: 0.4193 - acc: 0.8102 - val_loss: 0.3298 - val_acc: 0.8565\n",
            "\n",
            "Epoch 00008: val_acc improved from 0.85181 to 0.85648, saving model to /content/gdrive/My Drive/data/best_weights.hdf5\n",
            "Epoch 9/100\n",
            "23222/23222 [==============================] - 149s 6ms/step - loss: 0.4014 - acc: 0.8216 - val_loss: 0.3181 - val_acc: 0.8631\n",
            "\n",
            "Epoch 00009: val_acc improved from 0.85648 to 0.86313, saving model to /content/gdrive/My Drive/data/best_weights.hdf5\n",
            "Epoch 10/100\n",
            "23222/23222 [==============================] - 148s 6ms/step - loss: 0.3885 - acc: 0.8278 - val_loss: 0.3306 - val_acc: 0.8621\n",
            "\n",
            "Epoch 00010: val_acc did not improve from 0.86313\n",
            "Epoch 11/100\n",
            "23222/23222 [==============================] - 148s 6ms/step - loss: 0.3885 - acc: 0.8317 - val_loss: 0.3217 - val_acc: 0.8665\n",
            "\n",
            "Epoch 00011: val_acc improved from 0.86313 to 0.86646, saving model to /content/gdrive/My Drive/data/best_weights.hdf5\n",
            "Epoch 12/100\n",
            "23222/23222 [==============================] - 149s 6ms/step - loss: 0.3723 - acc: 0.8369 - val_loss: 0.3117 - val_acc: 0.8661\n",
            "\n",
            "Epoch 00012: val_acc did not improve from 0.86646\n",
            "Epoch 13/100\n",
            "23222/23222 [==============================] - 147s 6ms/step - loss: 0.3652 - acc: 0.8415 - val_loss: 0.3021 - val_acc: 0.8717\n",
            "\n",
            "Epoch 00013: val_acc improved from 0.86646 to 0.87169, saving model to /content/gdrive/My Drive/data/best_weights.hdf5\n",
            "Epoch 14/100\n",
            "23222/23222 [==============================] - 150s 6ms/step - loss: 0.3663 - acc: 0.8387 - val_loss: 0.3086 - val_acc: 0.8689\n",
            "\n",
            "Epoch 00014: val_acc did not improve from 0.87169\n",
            "Epoch 15/100\n",
            "23222/23222 [==============================] - 149s 6ms/step - loss: 0.3595 - acc: 0.8420 - val_loss: 0.2958 - val_acc: 0.8746\n",
            "\n",
            "Epoch 00015: val_acc improved from 0.87169 to 0.87463, saving model to /content/gdrive/My Drive/data/best_weights.hdf5\n",
            "Epoch 16/100\n",
            "23222/23222 [==============================] - 149s 6ms/step - loss: 0.3545 - acc: 0.8451 - val_loss: 0.2990 - val_acc: 0.8728\n",
            "\n",
            "Epoch 00016: val_acc did not improve from 0.87463\n",
            "Epoch 17/100\n",
            "23222/23222 [==============================] - 148s 6ms/step - loss: 0.3482 - acc: 0.8489 - val_loss: 0.2900 - val_acc: 0.8748\n",
            "\n",
            "Epoch 00017: val_acc improved from 0.87463 to 0.87480, saving model to /content/gdrive/My Drive/data/best_weights.hdf5\n",
            "Epoch 18/100\n",
            "23222/23222 [==============================] - 149s 6ms/step - loss: 0.3478 - acc: 0.8495 - val_loss: 0.2843 - val_acc: 0.8793\n",
            "\n",
            "Epoch 00018: val_acc improved from 0.87480 to 0.87925, saving model to /content/gdrive/My Drive/data/best_weights.hdf5\n",
            "Epoch 19/100\n",
            "23222/23222 [==============================] - 147s 6ms/step - loss: 0.3420 - acc: 0.8537 - val_loss: 0.2836 - val_acc: 0.8801\n",
            "\n",
            "Epoch 00019: val_acc improved from 0.87925 to 0.88012, saving model to /content/gdrive/My Drive/data/best_weights.hdf5\n",
            "Epoch 20/100\n",
            "23222/23222 [==============================] - 149s 6ms/step - loss: 0.3376 - acc: 0.8516 - val_loss: 0.2842 - val_acc: 0.8799\n",
            "\n",
            "Epoch 00020: val_acc did not improve from 0.88012\n",
            "Epoch 21/100\n",
            "23222/23222 [==============================] - 150s 6ms/step - loss: 0.3397 - acc: 0.8543 - val_loss: 0.3111 - val_acc: 0.8665\n",
            "\n",
            "Epoch 00021: val_acc did not improve from 0.88012\n",
            "Epoch 22/100\n",
            "23222/23222 [==============================] - 151s 6ms/step - loss: 0.3326 - acc: 0.8568 - val_loss: 0.2775 - val_acc: 0.8828\n",
            "\n",
            "Epoch 00022: val_acc improved from 0.88012 to 0.88284, saving model to /content/gdrive/My Drive/data/best_weights.hdf5\n",
            "Epoch 23/100\n",
            "23222/23222 [==============================] - 150s 6ms/step - loss: 0.3223 - acc: 0.8610 - val_loss: 0.2731 - val_acc: 0.8838\n",
            "\n",
            "Epoch 00023: val_acc improved from 0.88284 to 0.88383, saving model to /content/gdrive/My Drive/data/best_weights.hdf5\n",
            "Epoch 24/100\n",
            "23222/23222 [==============================] - 150s 6ms/step - loss: 0.3219 - acc: 0.8611 - val_loss: 0.2710 - val_acc: 0.8852\n",
            "\n",
            "Epoch 00024: val_acc improved from 0.88383 to 0.88522, saving model to /content/gdrive/My Drive/data/best_weights.hdf5\n",
            "Epoch 25/100\n",
            "23222/23222 [==============================] - 148s 6ms/step - loss: 0.3190 - acc: 0.8631 - val_loss: 0.2653 - val_acc: 0.8880\n",
            "\n",
            "Epoch 00025: val_acc improved from 0.88522 to 0.88802, saving model to /content/gdrive/My Drive/data/best_weights.hdf5\n",
            "Epoch 26/100\n",
            "23222/23222 [==============================] - 149s 6ms/step - loss: 0.3151 - acc: 0.8653 - val_loss: 0.2624 - val_acc: 0.8895\n",
            "\n",
            "Epoch 00026: val_acc improved from 0.88802 to 0.88949, saving model to /content/gdrive/My Drive/data/best_weights.hdf5\n",
            "Epoch 27/100\n",
            "23222/23222 [==============================] - 150s 6ms/step - loss: 0.3112 - acc: 0.8666 - val_loss: 0.2731 - val_acc: 0.8842\n",
            "\n",
            "Epoch 00027: val_acc did not improve from 0.88949\n",
            "Epoch 28/100\n",
            "23222/23222 [==============================] - 149s 6ms/step - loss: 0.3097 - acc: 0.8691 - val_loss: 0.2656 - val_acc: 0.8899\n",
            "\n",
            "Epoch 00028: val_acc improved from 0.88949 to 0.88988, saving model to /content/gdrive/My Drive/data/best_weights.hdf5\n",
            "Epoch 29/100\n",
            "23222/23222 [==============================] - 149s 6ms/step - loss: 0.3069 - acc: 0.8704 - val_loss: 0.2778 - val_acc: 0.8873\n",
            "\n",
            "Epoch 00029: val_acc did not improve from 0.88988\n",
            "Epoch 30/100\n",
            "23222/23222 [==============================] - 149s 6ms/step - loss: 0.3014 - acc: 0.8726 - val_loss: 0.2748 - val_acc: 0.8887\n",
            "\n",
            "Epoch 00030: val_acc did not improve from 0.88988\n",
            "Epoch 31/100\n",
            "23222/23222 [==============================] - 149s 6ms/step - loss: 0.3019 - acc: 0.8717 - val_loss: 0.2536 - val_acc: 0.8930\n",
            "\n",
            "Epoch 00031: val_acc improved from 0.88988 to 0.89299, saving model to /content/gdrive/My Drive/data/best_weights.hdf5\n",
            "Epoch 32/100\n",
            "23222/23222 [==============================] - 150s 6ms/step - loss: 0.2951 - acc: 0.8763 - val_loss: 0.2824 - val_acc: 0.8803\n",
            "\n",
            "Epoch 00032: val_acc did not improve from 0.89299\n",
            "Epoch 33/100\n",
            "23222/23222 [==============================] - 150s 6ms/step - loss: 0.2914 - acc: 0.8780 - val_loss: 0.2661 - val_acc: 0.8875\n",
            "\n",
            "Epoch 00033: val_acc did not improve from 0.89299\n",
            "Epoch 34/100\n",
            "23222/23222 [==============================] - 148s 6ms/step - loss: 0.2903 - acc: 0.8793 - val_loss: 0.2643 - val_acc: 0.8890\n",
            "\n",
            "Epoch 00034: val_acc did not improve from 0.89299\n",
            "Epoch 35/100\n",
            "23222/23222 [==============================] - 149s 6ms/step - loss: 0.2869 - acc: 0.8806 - val_loss: 0.2598 - val_acc: 0.8942\n",
            "\n",
            "Epoch 00035: val_acc improved from 0.89299 to 0.89425, saving model to /content/gdrive/My Drive/data/best_weights.hdf5\n",
            "Epoch 36/100\n",
            "23222/23222 [==============================] - 148s 6ms/step - loss: 0.2889 - acc: 0.8784 - val_loss: 0.2516 - val_acc: 0.8950\n",
            "\n",
            "Epoch 00036: val_acc improved from 0.89425 to 0.89503, saving model to /content/gdrive/My Drive/data/best_weights.hdf5\n",
            "Epoch 37/100\n",
            "23222/23222 [==============================] - 150s 6ms/step - loss: 0.2909 - acc: 0.8783 - val_loss: 0.2500 - val_acc: 0.8970\n",
            "\n",
            "Epoch 00037: val_acc improved from 0.89503 to 0.89701, saving model to /content/gdrive/My Drive/data/best_weights.hdf5\n",
            "Epoch 38/100\n",
            "23222/23222 [==============================] - 149s 6ms/step - loss: 0.2825 - acc: 0.8827 - val_loss: 0.2508 - val_acc: 0.8976\n",
            "\n",
            "Epoch 00038: val_acc improved from 0.89701 to 0.89762, saving model to /content/gdrive/My Drive/data/best_weights.hdf5\n",
            "Epoch 39/100\n",
            "23222/23222 [==============================] - 149s 6ms/step - loss: 0.2848 - acc: 0.8803 - val_loss: 0.2630 - val_acc: 0.8924\n",
            "\n",
            "Epoch 00039: val_acc did not improve from 0.89762\n",
            "Epoch 40/100\n",
            "23222/23222 [==============================] - 148s 6ms/step - loss: 0.2778 - acc: 0.8834 - val_loss: 0.2609 - val_acc: 0.8939\n",
            "\n",
            "Epoch 00040: val_acc did not improve from 0.89762\n",
            "Epoch 41/100\n",
            "23222/23222 [==============================] - 150s 6ms/step - loss: 0.2784 - acc: 0.8812 - val_loss: 0.2545 - val_acc: 0.8963\n",
            "\n",
            "Epoch 00041: val_acc did not improve from 0.89762\n",
            "Epoch 42/100\n",
            "23222/23222 [==============================] - 149s 6ms/step - loss: 0.2744 - acc: 0.8845 - val_loss: 0.2983 - val_acc: 0.8857\n",
            "\n",
            "Epoch 00042: val_acc did not improve from 0.89762\n",
            "Epoch 43/100\n",
            "23222/23222 [==============================] - 149s 6ms/step - loss: 0.2764 - acc: 0.8868 - val_loss: 0.2546 - val_acc: 0.8958\n",
            "\n",
            "Epoch 00043: val_acc did not improve from 0.89762\n",
            "Epoch 44/100\n",
            "23222/23222 [==============================] - 150s 6ms/step - loss: 0.2716 - acc: 0.8867 - val_loss: 0.2450 - val_acc: 0.8998\n",
            "\n",
            "Epoch 00044: val_acc improved from 0.89762 to 0.89978, saving model to /content/gdrive/My Drive/data/best_weights.hdf5\n",
            "Epoch 45/100\n",
            "23222/23222 [==============================] - 150s 6ms/step - loss: 0.2704 - acc: 0.8870 - val_loss: 0.2660 - val_acc: 0.8954\n",
            "\n",
            "Epoch 00045: val_acc did not improve from 0.89978\n",
            "Epoch 46/100\n",
            "23222/23222 [==============================] - 149s 6ms/step - loss: 0.2780 - acc: 0.8833 - val_loss: 0.2433 - val_acc: 0.9005\n",
            "\n",
            "Epoch 00046: val_acc improved from 0.89978 to 0.90051, saving model to /content/gdrive/My Drive/data/best_weights.hdf5\n",
            "Epoch 47/100\n",
            "23222/23222 [==============================] - 150s 6ms/step - loss: 0.2719 - acc: 0.8846 - val_loss: 0.2441 - val_acc: 0.8989\n",
            "\n",
            "Epoch 00047: val_acc did not improve from 0.90051\n",
            "Epoch 48/100\n",
            "23222/23222 [==============================] - 150s 6ms/step - loss: 0.2685 - acc: 0.8870 - val_loss: 0.2654 - val_acc: 0.8938\n",
            "\n",
            "Epoch 00048: val_acc did not improve from 0.90051\n",
            "Epoch 49/100\n",
            "23222/23222 [==============================] - 149s 6ms/step - loss: 0.2649 - acc: 0.8892 - val_loss: 0.2393 - val_acc: 0.9020\n",
            "\n",
            "Epoch 00049: val_acc improved from 0.90051 to 0.90203, saving model to /content/gdrive/My Drive/data/best_weights.hdf5\n",
            "Epoch 50/100\n",
            "23222/23222 [==============================] - 149s 6ms/step - loss: 0.2660 - acc: 0.8880 - val_loss: 0.2760 - val_acc: 0.8953\n",
            "\n",
            "Epoch 00050: val_acc did not improve from 0.90203\n",
            "Epoch 51/100\n",
            "23222/23222 [==============================] - 151s 7ms/step - loss: 0.2611 - acc: 0.8928 - val_loss: 0.2627 - val_acc: 0.8952\n",
            "\n",
            "Epoch 00051: val_acc did not improve from 0.90203\n",
            "Epoch 52/100\n",
            "23222/23222 [==============================] - 148s 6ms/step - loss: 0.2614 - acc: 0.8914 - val_loss: 0.2808 - val_acc: 0.8981\n",
            "\n",
            "Epoch 00052: val_acc did not improve from 0.90203\n",
            "Epoch 53/100\n",
            "23222/23222 [==============================] - 149s 6ms/step - loss: 0.2560 - acc: 0.8946 - val_loss: 0.2520 - val_acc: 0.8999\n",
            "\n",
            "Epoch 00053: val_acc did not improve from 0.90203\n",
            "Epoch 54/100\n",
            "23222/23222 [==============================] - 150s 6ms/step - loss: 0.2603 - acc: 0.8932 - val_loss: 0.2385 - val_acc: 0.9016\n",
            "\n",
            "Epoch 00054: val_acc did not improve from 0.90203\n",
            "Epoch 55/100\n",
            "23222/23222 [==============================] - 151s 6ms/step - loss: 0.2584 - acc: 0.8945 - val_loss: 0.2445 - val_acc: 0.9031\n",
            "\n",
            "Epoch 00055: val_acc improved from 0.90203 to 0.90306, saving model to /content/gdrive/My Drive/data/best_weights.hdf5\n",
            "Epoch 56/100\n",
            "23222/23222 [==============================] - 151s 6ms/step - loss: 0.2493 - acc: 0.8970 - val_loss: 0.2557 - val_acc: 0.8978\n",
            "\n",
            "Epoch 00056: val_acc did not improve from 0.90306\n",
            "Epoch 57/100\n",
            "23222/23222 [==============================] - 149s 6ms/step - loss: 0.2537 - acc: 0.8967 - val_loss: 0.2641 - val_acc: 0.8997\n",
            "\n",
            "Epoch 00057: val_acc did not improve from 0.90306\n",
            "Epoch 58/100\n",
            "23222/23222 [==============================] - 151s 7ms/step - loss: 0.2511 - acc: 0.8966 - val_loss: 0.2496 - val_acc: 0.9037\n",
            "\n",
            "Epoch 00058: val_acc improved from 0.90306 to 0.90371, saving model to /content/gdrive/My Drive/data/best_weights.hdf5\n",
            "Epoch 59/100\n",
            "23222/23222 [==============================] - 150s 6ms/step - loss: 0.2489 - acc: 0.8991 - val_loss: 0.2547 - val_acc: 0.8988\n",
            "\n",
            "Epoch 00059: val_acc did not improve from 0.90371\n",
            "Epoch 60/100\n",
            "23222/23222 [==============================] - 149s 6ms/step - loss: 0.2520 - acc: 0.8935 - val_loss: 0.2539 - val_acc: 0.9003\n",
            "\n",
            "Epoch 00060: val_acc did not improve from 0.90371\n",
            "Epoch 61/100\n",
            "23222/23222 [==============================] - 152s 7ms/step - loss: 0.2481 - acc: 0.8974 - val_loss: 0.2608 - val_acc: 0.8996\n",
            "\n",
            "Epoch 00061: val_acc did not improve from 0.90371\n",
            "Epoch 62/100\n",
            "23222/23222 [==============================] - 149s 6ms/step - loss: 0.2456 - acc: 0.8994 - val_loss: 0.2516 - val_acc: 0.9035\n",
            "\n",
            "Epoch 00062: val_acc did not improve from 0.90371\n",
            "Epoch 63/100\n",
            "23222/23222 [==============================] - 149s 6ms/step - loss: 0.2451 - acc: 0.8982 - val_loss: 0.2408 - val_acc: 0.9037\n",
            "\n",
            "Epoch 00063: val_acc did not improve from 0.90371\n",
            "Epoch 64/100\n",
            "23222/23222 [==============================] - 150s 6ms/step - loss: 0.2439 - acc: 0.8986 - val_loss: 0.2511 - val_acc: 0.9041\n",
            "\n",
            "Epoch 00064: val_acc improved from 0.90371 to 0.90414, saving model to /content/gdrive/My Drive/data/best_weights.hdf5\n",
            "Epoch 65/100\n",
            "23222/23222 [==============================] - 153s 7ms/step - loss: 0.2456 - acc: 0.8993 - val_loss: 0.2642 - val_acc: 0.9014\n",
            "\n",
            "Epoch 00065: val_acc did not improve from 0.90414\n",
            "Epoch 66/100\n",
            "23222/23222 [==============================] - 150s 6ms/step - loss: 0.2459 - acc: 0.9000 - val_loss: 0.2675 - val_acc: 0.8970\n",
            "\n",
            "Epoch 00066: val_acc did not improve from 0.90414\n",
            "Epoch 00066: early stopping\n"
          ],
          "name": "stdout"
        }
      ]
    },
    {
      "cell_type": "markdown",
      "metadata": {
        "id": "oTOQ2Y3D9BPv",
        "colab_type": "text"
      },
      "source": [
        "## Results"
      ]
    },
    {
      "cell_type": "code",
      "metadata": {
        "id": "73CNTKZgnOLe",
        "colab_type": "code",
        "colab": {
          "base_uri": "https://localhost:8080/",
          "height": 398
        },
        "outputId": "edbbe9e8-e501-4dca-8ace-f70fc615adff"
      },
      "source": [
        "fig, ax = plt.subplots(figsize=(15,6))\n",
        "ax.plot(lstm_w2v_history.history[\"acc\"], label=\"train acc\", color=\"green\")\n",
        "ax.plot(lstm_w2v_history.history[\"loss\"], label=\"train loss\", color=\"green\", ls=\"--\")\n",
        "ax.plot(lstm_w2v_history.history[\"val_acc\"], label=\"test acc\", color=\"red\")\n",
        "ax.plot(lstm_w2v_history.history[\"val_loss\"], label=\"test loss\", color=\" red\", ls=\"--\")\n",
        "plt.xlabel(\"epoch\")\n",
        "plt.legend()\n",
        "plt.show()"
      ],
      "execution_count": 191,
      "outputs": [
        {
          "output_type": "display_data",
          "data": {
            "image/png": "[encoded data removed]",
            "text/plain": [
              "<Figure size 1080x432 with 1 Axes>"
            ]
          },
          "metadata": {
            "tags": [],
            "image/png": {
              "width": 882,
              "height": 381
            }
          }
        }
      ]
    },
    {
      "cell_type": "markdown",
      "metadata": {
        "id": "hgq3m9Xp9CzU",
        "colab_type": "text"
      },
      "source": [
        "Training has been stopped before overfitting. The best score with LSTM pretrained embedding layer is 90,414% which is almost 2% better than SVM and standard LSTM."
      ]
    },
    {
      "cell_type": "markdown",
      "metadata": {
        "id": "bOddcCS97trb",
        "colab_type": "text"
      },
      "source": [
        "# SA-LSTM (WiP)"
      ]
    },
    {
      "cell_type": "markdown",
      "metadata": {
        "id": "tDWda3Nv-GNB",
        "colab_type": "text"
      },
      "source": [
        "Work in Progress but currently too long to compute with the available hardware. Based on this publication: https://arxiv.org/pdf/1511.01432.pdf"
      ]
    },
    {
      "cell_type": "code",
      "metadata": {
        "id": "LFdva28h7yCY",
        "colab_type": "code",
        "outputId": "be6619cb-05f9-44a5-b0ee-8d703ad20e67",
        "colab": {
          "base_uri": "https://localhost:8080/",
          "height": 312
        }
      },
      "source": [
        "vocab_size = 10000\n",
        "embedding_size = 300\n",
        "\n",
        "sa_lstm_model = Sequential()\n",
        "sa_lstm_model.add(Embedding(vocab_size, embedding_size, input_length=max_length))\n",
        "sa_lstm_model.add(LSTM(256))\n",
        "sa_lstm_model.add(RepeatVector(max_length))\n",
        "sa_lstm_model.add(LSTM(256, return_sequences=True))\n",
        "sa_lstm_model.add(TimeDistributed(Dense(1)))\n",
        "sa_lstm_model.compile(optimizer='adam', loss='mse')\n",
        "sa_lstm_model.summary()"
      ],
      "execution_count": 0,
      "outputs": [
        {
          "output_type": "stream",
          "text": [
            "_________________________________________________________________\n",
            "Layer (type)                 Output Shape              Param #   \n",
            "=================================================================\n",
            "embedding_11 (Embedding)     (None, 300, 300)          3000000   \n",
            "_________________________________________________________________\n",
            "lstm_11 (LSTM)               (None, 256)               570368    \n",
            "_________________________________________________________________\n",
            "repeat_vector_1 (RepeatVecto (None, 300, 256)          0         \n",
            "_________________________________________________________________\n",
            "lstm_12 (LSTM)               (None, 300, 256)          525312    \n",
            "_________________________________________________________________\n",
            "time_distributed_1 (TimeDist (None, 300, 1)            257       \n",
            "=================================================================\n",
            "Total params: 4,095,937\n",
            "Trainable params: 4,095,937\n",
            "Non-trainable params: 0\n",
            "_________________________________________________________________\n"
          ],
          "name": "stdout"
        }
      ]
    },
    {
      "cell_type": "code",
      "metadata": {
        "colab_type": "code",
        "id": "T6raBdQq86Az",
        "colab": {}
      },
      "source": [
        "weight_path = \"/content/gdrive/My Drive/data/sa_best_weights.hdf5\"\n",
        "checkpoint = ModelCheckpoint(weight_path, monitor='val_acc', verbose=1, save_best_only=True, mode='max')\n",
        "earlystopping = EarlyStopping(monitor='val_loss', mode='min', verbose=1, patience=20, min_delta=0.01)\n",
        "callbacks = [checkpoint, earlystopping]"
      ],
      "execution_count": 0,
      "outputs": []
    },
    {
      "cell_type": "code",
      "metadata": {
        "colab_type": "code",
        "outputId": "3e75a4cd-a07e-4b7f-e28f-448aa6cde9b5",
        "id": "5z6VYSxs86BL",
        "colab": {
          "base_uri": "https://localhost:8080/",
          "height": 330
        }
      },
      "source": [
        "sa_lstm_history = sa_lstm_model.fit(X_train, y_train, epochs=100, verbose=1, batch_size=256, validation_data=(X_test, y_test), callbacks=callbacks)"
      ],
      "execution_count": 0,
      "outputs": [
        {
          "output_type": "error",
          "ename": "ValueError",
          "evalue": "ignored",
          "traceback": [
            "\u001b[0;31m---------------------------------------------------------------------------\u001b[0m",
            "\u001b[0;31mValueError\u001b[0m                                Traceback (most recent call last)",
            "\u001b[0;32m<ipython-input-222-4372f864a887>\u001b[0m in \u001b[0;36m<module>\u001b[0;34m()\u001b[0m\n\u001b[0;32m----> 1\u001b[0;31m \u001b[0mhistory\u001b[0m \u001b[0;34m=\u001b[0m \u001b[0mmodel\u001b[0m\u001b[0;34m.\u001b[0m\u001b[0mfit\u001b[0m\u001b[0;34m(\u001b[0m\u001b[0mX_train\u001b[0m\u001b[0;34m,\u001b[0m \u001b[0my_train\u001b[0m\u001b[0;34m,\u001b[0m \u001b[0mepochs\u001b[0m\u001b[0;34m=\u001b[0m\u001b[0;36m100\u001b[0m\u001b[0;34m,\u001b[0m \u001b[0mverbose\u001b[0m\u001b[0;34m=\u001b[0m\u001b[0;36m1\u001b[0m\u001b[0;34m,\u001b[0m \u001b[0mbatch_size\u001b[0m\u001b[0;34m=\u001b[0m\u001b[0;36m256\u001b[0m\u001b[0;34m,\u001b[0m \u001b[0mvalidation_data\u001b[0m\u001b[0;34m=\u001b[0m\u001b[0;34m(\u001b[0m\u001b[0mX_test\u001b[0m\u001b[0;34m,\u001b[0m \u001b[0my_test\u001b[0m\u001b[0;34m)\u001b[0m\u001b[0;34m,\u001b[0m \u001b[0mcallbacks\u001b[0m\u001b[0;34m=\u001b[0m\u001b[0mcallbacks\u001b[0m\u001b[0;34m)\u001b[0m\u001b[0;34m\u001b[0m\u001b[0;34m\u001b[0m\u001b[0m\n\u001b[0m",
            "\u001b[0;32m/usr/local/lib/python3.6/dist-packages/keras/engine/training.py\u001b[0m in \u001b[0;36mfit\u001b[0;34m(self, x, y, batch_size, epochs, verbose, callbacks, validation_split, validation_data, shuffle, class_weight, sample_weight, initial_epoch, steps_per_epoch, validation_steps, **kwargs)\u001b[0m\n\u001b[1;32m    950\u001b[0m             \u001b[0msample_weight\u001b[0m\u001b[0;34m=\u001b[0m\u001b[0msample_weight\u001b[0m\u001b[0;34m,\u001b[0m\u001b[0;34m\u001b[0m\u001b[0;34m\u001b[0m\u001b[0m\n\u001b[1;32m    951\u001b[0m             \u001b[0mclass_weight\u001b[0m\u001b[0;34m=\u001b[0m\u001b[0mclass_weight\u001b[0m\u001b[0;34m,\u001b[0m\u001b[0;34m\u001b[0m\u001b[0;34m\u001b[0m\u001b[0m\n\u001b[0;32m--> 952\u001b[0;31m             batch_size=batch_size)\n\u001b[0m\u001b[1;32m    953\u001b[0m         \u001b[0;31m# Prepare validation data.\u001b[0m\u001b[0;34m\u001b[0m\u001b[0;34m\u001b[0m\u001b[0;34m\u001b[0m\u001b[0m\n\u001b[1;32m    954\u001b[0m         \u001b[0mdo_validation\u001b[0m \u001b[0;34m=\u001b[0m \u001b[0;32mFalse\u001b[0m\u001b[0;34m\u001b[0m\u001b[0;34m\u001b[0m\u001b[0m\n",
            "\u001b[0;32m/usr/local/lib/python3.6/dist-packages/keras/engine/training.py\u001b[0m in \u001b[0;36m_standardize_user_data\u001b[0;34m(self, x, y, sample_weight, class_weight, check_array_lengths, batch_size)\u001b[0m\n\u001b[1;32m    787\u001b[0m                 \u001b[0mfeed_output_shapes\u001b[0m\u001b[0;34m,\u001b[0m\u001b[0;34m\u001b[0m\u001b[0;34m\u001b[0m\u001b[0m\n\u001b[1;32m    788\u001b[0m                 \u001b[0mcheck_batch_axis\u001b[0m\u001b[0;34m=\u001b[0m\u001b[0;32mFalse\u001b[0m\u001b[0;34m,\u001b[0m  \u001b[0;31m# Don't enforce the batch size.\u001b[0m\u001b[0;34m\u001b[0m\u001b[0;34m\u001b[0m\u001b[0m\n\u001b[0;32m--> 789\u001b[0;31m                 exception_prefix='target')\n\u001b[0m\u001b[1;32m    790\u001b[0m \u001b[0;34m\u001b[0m\u001b[0m\n\u001b[1;32m    791\u001b[0m             \u001b[0;31m# Generate sample-wise weight values given the `sample_weight` and\u001b[0m\u001b[0;34m\u001b[0m\u001b[0;34m\u001b[0m\u001b[0;34m\u001b[0m\u001b[0m\n",
            "\u001b[0;32m/usr/local/lib/python3.6/dist-packages/keras/engine/training_utils.py\u001b[0m in \u001b[0;36mstandardize_input_data\u001b[0;34m(data, names, shapes, check_batch_axis, exception_prefix)\u001b[0m\n\u001b[1;32m    126\u001b[0m                         \u001b[0;34m': expected '\u001b[0m \u001b[0;34m+\u001b[0m \u001b[0mnames\u001b[0m\u001b[0;34m[\u001b[0m\u001b[0mi\u001b[0m\u001b[0;34m]\u001b[0m \u001b[0;34m+\u001b[0m \u001b[0;34m' to have '\u001b[0m \u001b[0;34m+\u001b[0m\u001b[0;34m\u001b[0m\u001b[0;34m\u001b[0m\u001b[0m\n\u001b[1;32m    127\u001b[0m                         \u001b[0mstr\u001b[0m\u001b[0;34m(\u001b[0m\u001b[0mlen\u001b[0m\u001b[0;34m(\u001b[0m\u001b[0mshape\u001b[0m\u001b[0;34m)\u001b[0m\u001b[0;34m)\u001b[0m \u001b[0;34m+\u001b[0m \u001b[0;34m' dimensions, but got array '\u001b[0m\u001b[0;34m\u001b[0m\u001b[0;34m\u001b[0m\u001b[0m\n\u001b[0;32m--> 128\u001b[0;31m                         'with shape ' + str(data_shape))\n\u001b[0m\u001b[1;32m    129\u001b[0m                 \u001b[0;32mif\u001b[0m \u001b[0;32mnot\u001b[0m \u001b[0mcheck_batch_axis\u001b[0m\u001b[0;34m:\u001b[0m\u001b[0;34m\u001b[0m\u001b[0;34m\u001b[0m\u001b[0m\n\u001b[1;32m    130\u001b[0m                     \u001b[0mdata_shape\u001b[0m \u001b[0;34m=\u001b[0m \u001b[0mdata_shape\u001b[0m\u001b[0;34m[\u001b[0m\u001b[0;36m1\u001b[0m\u001b[0;34m:\u001b[0m\u001b[0;34m]\u001b[0m\u001b[0;34m\u001b[0m\u001b[0;34m\u001b[0m\u001b[0m\n",
            "\u001b[0;31mValueError\u001b[0m: Error when checking target: expected time_distributed_1 to have 3 dimensions, but got array with shape (23222, 1)"
          ]
        }
      ]
    },
    {
      "cell_type": "code",
      "metadata": {
        "id": "wGZm2_5f8q6S",
        "colab_type": "code",
        "colab": {}
      },
      "source": [
        ""
      ],
      "execution_count": 0,
      "outputs": []
    }
  ]
}